{
 "cells": [
  {
   "cell_type": "markdown",
   "metadata": {},
   "source": [
    "Звіт тиждень два"
   ]
  },
  {
   "cell_type": "code",
   "execution_count": 62,
   "metadata": {},
   "outputs": [],
   "source": [
    "import time\n",
    "import psutil"
   ]
  },
  {
   "cell_type": "code",
   "execution_count": 63,
   "metadata": {},
   "outputs": [],
   "source": [
    "def memory_usage():\n",
    "    process = psutil.Process()\n",
    "    mem = process.memory_info().rss / (1024 * 1024)\n",
    "    return mem"
   ]
  },
  {
   "cell_type": "markdown",
   "metadata": {},
   "source": [
    "Перша задача:\n",
    "Names search"
   ]
  },
  {
   "cell_type": "markdown",
   "metadata": {},
   "source": [
    "Код до оптимізації ШІ:"
   ]
  },
  {
   "cell_type": "code",
   "execution_count": 64,
   "metadata": {},
   "outputs": [
    {
     "name": "stdout",
     "output_type": "stream",
     "text": [
      "Execution time: 0.0010235309600830078 seconds\n",
      "Memory usage before code execution: 69.41796875 MB\n",
      "({'ВІКТОРІЯ', 'СОФІЯ', 'АННА'}, (201, {'МІЛІНА', 'КАМІЛЯ', 'ЕМАНУЕЛЬ', 'ІВАНКА', 'ХАДІДЖА', 'ОЛЕКСАНРДА', 'ФІЛІСІЯ', 'ХЮМА', 'САБРІНА', 'МАРЦЕЛІНА', 'ЕМВЛІЯ', 'ЄВАНГЕЛИНА', 'НІТЗАН', 'ІФА', 'ЄН', 'КАМАЛІЯ', 'ЯРА', 'ЛАТІФА', 'ТАТЯНА', 'ЕЛЬЗА', 'ЛУЇЗА', 'МАЛАНА', 'НАСТЯ', 'ЛАЛІТА', 'КЕЙТ', 'ЛАЛІ', 'АНЕЛІЯ', 'ЛЄОНА', 'МАЛЬВА', 'ГЮНЕШ', 'ЗАЛАТА', 'АСЯ', 'ЛІЯ', 'МІЛЄНА', 'АРІ', 'НАНА', 'АЙТЕН', 'ДЖЕННІФЕР', 'ЯЇЛ', 'ЛІАНА', 'АЛІТЕЯ', 'ІВОНА', 'ФІЛОМЕНА', 'ХАНІФА', 'ТАХЕЛЬ', 'ДАМІНА', 'ЛЕТИЦІЯ', 'ЄЛІЗАВЕТА', 'БАРБАРА', 'МОТРЯ', 'МИХАЙЛИНА', 'ХРИСТИНКА', 'ІЛЛАРІЯ', 'ЦВІТОСЛАВА', 'ІОНА', 'ІНГА', 'ЄЛІЗАВЄТА', 'РАМІНА', 'ЕМІЛІАННА', 'ЗАРІНА', 'КОРНЕЛІЯ', 'АГАФІЯ', 'ЕМІЛІАНА', 'ПАВЛИНА', 'ЛАТОЙЯ', 'МИЛАНА', 'АНДРІЯНА', 'РАХІЛЬ', 'ХЕЛЕНА', 'ЛУІЗА', 'ЮЛАНА', 'МАТИЛЬДА', 'САНДРА', 'РОЗА', 'МЕЛІССА', 'АГІЯ', 'АЛІЯ', 'ЄЛИСАВЕТА', 'ЙОГАННА', 'МІЛАНІЯ', 'АРІЯ', 'ГУЛЬНОРА', 'МАРЯНА', 'ОРИНА', 'ЄЛЕНА', 'ЕСМІРА', 'ІНЕССА', 'ЕМЕЛЬ', 'ЮЛІАНІЯ', 'АВЕЛІНА', 'ГАФІЯ', 'ІЛАННА', 'АРІНЕ', 'СНІЖАННА', 'ДАНІЄЛА', 'ЛІЛАНА', 'АЛІСІЯ', 'ВЕРДЖИНІЯ', 'ХАВВА', 'ЄВЛАЛІЯ', 'КАТАЛЄЯ', 'ҐРЕТА', 'АФІНА', 'ЙОЛАНА', 'ЕЛЬЗАРА', 'ДЖЕНІФЕР', 'СУЛАМІТА', 'ЛІЛАННА', 'ТАЯНА', 'СІРША', 'ЯРЕМІЯ', 'АЛЕКСІС', 'ОДАРКА', 'СИЛЬВІЯ', 'ФАЇНА', 'ВЕДАНА', 'ДЗВЕНИМИРА', 'ЕЛЛІ', 'РАЇСА', 'ЛУНА', 'РОМАНА', 'ЄСЕНІЯ', 'МАЛІКА', 'ХАДІЖА', 'ЄРЕМІЯ', 'РОЕСОЛАНА', 'КАРИНА', 'ОРЕСТА', 'КВІТКА', 'БЕАТРИСА', 'ЛАРИСА', 'ГЕРАРДА', 'ЛЕЙЛА', 'ПОЛІАННА', 'МАРТІНА', 'БЕАТА', 'АЙЛІН', 'ЄМІЛІЯ', 'АРЕТА', 'ЕЛІФ', 'ЛІЛЕЯ', 'БАЖЕНА', 'МЕЛІНА', 'РАДА', 'МАҐДАЛЄНА', 'ДРАГА', \"ЛУК'ЯНА\", 'КАРІАНА', 'ЛАДА', 'РИММА', 'ЛІОНА', 'ФРАНЦІШКА', 'ГЛИКЕРІЯ', 'МЕЛІНІЯ', 'ЖАННА', 'БОГУМИЛА', 'НЕЛІЯ', 'АЙНА', 'РОКСОЛЯНА', 'СВІТОЗАРА', 'ЙОРДАНА', 'ЕЛІЗАБЕТА', 'ЕВА', 'ГАБРІЕЛА', 'ЛІБІ', 'ЯСНА', 'АДЕЛЯ', 'ПАЛОМА', 'РОМАНІЯ', 'ЄЛИЗАВЕТТА', 'АДІКА', 'ВЛАДИСЛАВ', 'ІНБАЛ', 'ЙОРДАНІЯ', \"МЕР'ЯМ\", 'НАЯ', 'ЕЛИЗАБЕТ', 'ЯРИК', 'ЕДІЄ', 'ЮЛДУЗИМ', 'ШАРЛОТТА', 'ЕРМІЛІЯ', 'ЄВАА', 'ЛІАННА', 'ҐРЕЙС', 'ОРИСЛАВА', 'ВІКА', 'ЮЕРО', 'АФРУЗА', 'МІЛЛА', 'АРМІНЕ', 'ЕЛЛА', 'ЕМІЛЬЯНА', 'НАІЛЄ', 'ІЗАБЕЛЬ', 'СЮЗАННА', 'ХІЛІ', 'АНГЕЛИНА', 'ВЄРОНІКА', 'ДОРОФЕЯ', 'АНЯ'}), ('А', 55, 1752))\n"
     ]
    }
   ],
   "source": [
    "\"\"\"\n",
    "Problems with children and their names in 2017.\n",
    "\"\"\"\n",
    "start_time = time.time()\n",
    "def three_popular_names(file_path:str)->set:\n",
    "    \"\"\"\n",
    "    What were the 3 most popular names in 2017?\n",
    "    \"\"\"\n",
    "    with open(file_path, 'r', encoding=\"UTF-8\") as file:\n",
    "        lines=[line.strip() for line in file][1:]\n",
    "        my_set=set()\n",
    "        number_list=[]\n",
    "        best_number_list=[]\n",
    "        for line in lines:\n",
    "            row=line.split()\n",
    "            row[1]=row[1].replace('(', '')\n",
    "            row[1]=row[1].replace(')', '')\n",
    "            number_list.append(int(row[1]))\n",
    "        maximum1=max(number_list)\n",
    "        number_list.remove(maximum1)\n",
    "        best_number_list.append(maximum1)\n",
    "        maximum2=max(number_list)\n",
    "        number_list.remove(maximum2)\n",
    "        best_number_list.append(maximum2)\n",
    "        maximum3=max(number_list)\n",
    "        number_list.remove(maximum3)\n",
    "        best_number_list.append(maximum3)\n",
    "        for line in lines:\n",
    "            row=line.split()\n",
    "            row[1]=row[1].replace('(', '')\n",
    "            row[1]=row[1].replace(')', '')\n",
    "            if int(row[1]) in best_number_list:\n",
    "                my_set.add(row[0])\n",
    "    return my_set\n",
    "\n",
    "def only_once(file_path:str)->tuple:\n",
    "    \"\"\"\n",
    "    How many names were met only once and what are those names?\n",
    "    \"\"\"\n",
    "    with open(file_path, 'r', encoding=\"UTF-8\") as file:\n",
    "        lines=[line.strip() for line in file][1:]\n",
    "        counter=0\n",
    "        my_set=set()\n",
    "        for line in lines:\n",
    "            row=line.split()\n",
    "            row[1]=row[1].replace('(', '')\n",
    "            row[1]=row[1].replace(')', '')\n",
    "            if int(row[1])==1:\n",
    "                counter+=1\n",
    "                my_set.add(row[0])\n",
    "        needed=[counter, my_set]\n",
    "        return tuple(needed)\n",
    "\n",
    "def letter_counter(file_path:str)->tuple:\n",
    "    \"\"\"\n",
    "    With which letter do the most names begin, how many of these names are there, \n",
    "    and how many children were named by these names?\n",
    "    \"\"\"\n",
    "    with open(file_path, 'r', encoding=\"UTF-8\") as file:\n",
    "        lines=[line.strip() for line in file][1:]\n",
    "        letter_count={}\n",
    "        for line in lines:\n",
    "            row=line.split()\n",
    "            row[1]=row[1].replace('(', '')\n",
    "            row[1]=row[1].replace(')', '')\n",
    "            first_letter=row[0][0]\n",
    "            if first_letter in letter_count:\n",
    "                letter_count[first_letter]+=1\n",
    "            else:\n",
    "                letter_count[first_letter]=1\n",
    "        max_letter=max(letter_count, key=letter_count.get)\n",
    "        max_children=letter_count.get(max_letter)\n",
    "        suma=0\n",
    "        for line in lines:\n",
    "            row=line.split()\n",
    "            row[1]=row[1].replace('(', '')\n",
    "            row[1]=row[1].replace(')', '')\n",
    "            if row[0].startswith(max_letter):\n",
    "                suma+=int(row[1])\n",
    "        needed=[max_letter, max_children, suma]\n",
    "        return tuple(needed)\n",
    "\n",
    "def find_names(file_path:str)->tuple:\n",
    "    \"\"\"\n",
    "    The function should return a tuple of three elements, where:\n",
    "    The first element is the set of the three most popular names.\n",
    "    The second element is a tuple, where the first element is the \n",
    "    number of names that occur only once, and the second element \n",
    "    is the set of these names.\n",
    "    The third element is a tuple, where the first element is the \n",
    "    letter with which the most different names begin, the second is \n",
    "    the number of such names, and the third element is the number \n",
    "    of children with these names.\n",
    "    \"\"\"\n",
    "    first_problem=three_popular_names(file_path)\n",
    "    second_problem=only_once(file_path)\n",
    "    third_problem=letter_counter(file_path)\n",
    "    needed=[first_problem, second_problem, third_problem]\n",
    "    return tuple(needed)\n",
    "end_time = time.time()\n",
    "\n",
    "execution_time = end_time - start_time\n",
    "print(\"Execution time:\", execution_time, \"seconds\")\n",
    "print(\"Memory usage before code execution:\", memory_usage(), \"MB\")\n",
    "\n",
    "print(find_names('boynames'))"
   ]
  },
  {
   "cell_type": "markdown",
   "metadata": {},
   "source": [
    "Промпт: \n",
    "оптимізуй цей код\n",
    "Оптимізований код:"
   ]
  },
  {
   "cell_type": "code",
   "execution_count": 65,
   "metadata": {},
   "outputs": [
    {
     "name": "stdout",
     "output_type": "stream",
     "text": [
      "Execution time: 0.0005228519439697266 seconds\n",
      "Memory usage before code execution: 69.42578125 MB\n",
      "({'ВІКТОРІЯ', 'СОФІЯ', 'АННА'}, (201, {'МІЛІНА', 'КАМІЛЯ', 'ЕМАНУЕЛЬ', 'ІВАНКА', 'ХАДІДЖА', 'ОЛЕКСАНРДА', 'ФІЛІСІЯ', 'ХЮМА', 'САБРІНА', 'МАРЦЕЛІНА', 'ЕМВЛІЯ', 'ЄВАНГЕЛИНА', 'НІТЗАН', 'ІФА', 'ЄН', 'КАМАЛІЯ', 'ЯРА', 'ЛАТІФА', 'ТАТЯНА', 'ЕЛЬЗА', 'ЛУЇЗА', 'МАЛАНА', 'НАСТЯ', 'ЛАЛІТА', 'КЕЙТ', 'ЛАЛІ', 'АНЕЛІЯ', 'ЛЄОНА', 'МАЛЬВА', 'ГЮНЕШ', 'ЗАЛАТА', 'АСЯ', 'ЛІЯ', 'МІЛЄНА', 'АРІ', 'НАНА', 'АЙТЕН', 'ДЖЕННІФЕР', 'ЯЇЛ', 'ЛІАНА', 'АЛІТЕЯ', 'ІВОНА', 'ФІЛОМЕНА', 'ХАНІФА', 'ТАХЕЛЬ', 'ДАМІНА', 'ЛЕТИЦІЯ', 'ЄЛІЗАВЕТА', 'БАРБАРА', 'МОТРЯ', 'МИХАЙЛИНА', 'ХРИСТИНКА', 'ІЛЛАРІЯ', 'ЦВІТОСЛАВА', 'ІОНА', 'ІНГА', 'ЄЛІЗАВЄТА', 'РАМІНА', 'ЕМІЛІАННА', 'ЗАРІНА', 'КОРНЕЛІЯ', 'АГАФІЯ', 'ЕМІЛІАНА', 'ПАВЛИНА', 'ЛАТОЙЯ', 'МИЛАНА', 'АНДРІЯНА', 'РАХІЛЬ', 'ХЕЛЕНА', 'ЛУІЗА', 'ЮЛАНА', 'МАТИЛЬДА', 'САНДРА', 'РОЗА', 'МЕЛІССА', 'АГІЯ', 'АЛІЯ', 'ЄЛИСАВЕТА', 'ЙОГАННА', 'МІЛАНІЯ', 'АРІЯ', 'ГУЛЬНОРА', 'МАРЯНА', 'ОРИНА', 'ЄЛЕНА', 'ЕСМІРА', 'ІНЕССА', 'ЕМЕЛЬ', 'ЮЛІАНІЯ', 'АВЕЛІНА', 'ГАФІЯ', 'ІЛАННА', 'АРІНЕ', 'СНІЖАННА', 'ДАНІЄЛА', 'ЛІЛАНА', 'АЛІСІЯ', 'ВЕРДЖИНІЯ', 'ХАВВА', 'ЄВЛАЛІЯ', 'КАТАЛЄЯ', 'ҐРЕТА', 'АФІНА', 'ЙОЛАНА', 'ЕЛЬЗАРА', 'ДЖЕНІФЕР', 'СУЛАМІТА', 'ЛІЛАННА', 'ТАЯНА', 'СІРША', 'ЯРЕМІЯ', 'АЛЕКСІС', 'ОДАРКА', 'СИЛЬВІЯ', 'ФАЇНА', 'ВЕДАНА', 'ДЗВЕНИМИРА', 'ЕЛЛІ', 'РАЇСА', 'ЛУНА', 'РОМАНА', 'ЄСЕНІЯ', 'МАЛІКА', 'ХАДІЖА', 'ЄРЕМІЯ', 'РОЕСОЛАНА', 'КАРИНА', 'ОРЕСТА', 'КВІТКА', 'БЕАТРИСА', 'ЛАРИСА', 'ГЕРАРДА', 'ЛЕЙЛА', 'ПОЛІАННА', 'МАРТІНА', 'БЕАТА', 'АЙЛІН', 'ЄМІЛІЯ', 'АРЕТА', 'ЕЛІФ', 'ЛІЛЕЯ', 'БАЖЕНА', 'МЕЛІНА', 'РАДА', 'МАҐДАЛЄНА', 'ДРАГА', \"ЛУК'ЯНА\", 'КАРІАНА', 'ЛАДА', 'РИММА', 'ЛІОНА', 'ФРАНЦІШКА', 'ГЛИКЕРІЯ', 'МЕЛІНІЯ', 'ЖАННА', 'БОГУМИЛА', 'НЕЛІЯ', 'АЙНА', 'РОКСОЛЯНА', 'СВІТОЗАРА', 'ЙОРДАНА', 'ЕЛІЗАБЕТА', 'ЕВА', 'ГАБРІЕЛА', 'ЛІБІ', 'ЯСНА', 'АДЕЛЯ', 'ПАЛОМА', 'РОМАНІЯ', 'ЄЛИЗАВЕТТА', 'АДІКА', 'ВЛАДИСЛАВ', 'ІНБАЛ', 'ЙОРДАНІЯ', \"МЕР'ЯМ\", 'НАЯ', 'ЕЛИЗАБЕТ', 'ЯРИК', 'ЕДІЄ', 'ЮЛДУЗИМ', 'ШАРЛОТТА', 'ЕРМІЛІЯ', 'ЄВАА', 'ЛІАННА', 'ҐРЕЙС', 'ОРИСЛАВА', 'ВІКА', 'ЮЕРО', 'АФРУЗА', 'МІЛЛА', 'АРМІНЕ', 'ЕЛЛА', 'ЕМІЛЬЯНА', 'НАІЛЄ', 'ІЗАБЕЛЬ', 'СЮЗАННА', 'ХІЛІ', 'АНГЕЛИНА', 'ВЄРОНІКА', 'ДОРОФЕЯ', 'АНЯ'}), ('А', 55, 1752))\n"
     ]
    }
   ],
   "source": [
    "start_time = time.time()\n",
    "def read_data(file_path: str):\n",
    "    \"\"\"\n",
    "    Read data from file and clean up the lines.\n",
    "    \"\"\"\n",
    "    with open(file_path, 'r', encoding=\"UTF-8\") as file:\n",
    "        # Skip the first line\n",
    "        next(file)\n",
    "        lines = [line.strip().split() for line in file]\n",
    "    return lines\n",
    "\n",
    "def three_popular_names(lines):\n",
    "    \"\"\"\n",
    "    Find the 3 most popular names.\n",
    "    \"\"\"\n",
    "    number_list = [int(row[1].replace('(', '').replace(')', '')) for row in lines]\n",
    "    top_3 = sorted(set(number_list), reverse=True)[:3]\n",
    "    popular_names = {row[0] for row in lines if int(row[1].replace('(', '').replace(')', '')) in top_3}\n",
    "    return popular_names\n",
    "\n",
    "def only_once(lines):\n",
    "    \"\"\"\n",
    "    Count names that occur only once and return them.\n",
    "    \"\"\"\n",
    "    names_once = {row[0] for row in lines if int(row[1].replace('(', '').replace(')', '')) == 1}\n",
    "    return len(names_once), names_once\n",
    "\n",
    "def letter_counter(lines):\n",
    "    \"\"\"\n",
    "    Count names starting with the most common letter.\n",
    "    \"\"\"\n",
    "    letter_count = {}\n",
    "    for row in lines:\n",
    "        first_letter = row[0][0]\n",
    "        letter_count[first_letter] = letter_count.get(first_letter, 0) + 1\n",
    "    max_letter = max(letter_count, key=letter_count.get)\n",
    "    max_children = letter_count[max_letter]\n",
    "    total_children = sum(int(row[1].replace('(', '').replace(')', '')) for row in lines if row[0].startswith(max_letter))\n",
    "    return max_letter, max_children, total_children\n",
    "\n",
    "def find_names(file_path: str) -> tuple:\n",
    "    \"\"\"\n",
    "    Main function to solve all problems.\n",
    "    \"\"\"\n",
    "    lines = read_data(file_path)\n",
    "    popular_names = three_popular_names(lines)\n",
    "    names_once_count, names_once = only_once(lines)\n",
    "    max_letter, max_children, total_children = letter_counter(lines)\n",
    "    return popular_names, (names_once_count, names_once), (max_letter, max_children, total_children)\n",
    "end_time = time.time()\n",
    "\n",
    "execution_time = end_time - start_time\n",
    "print(\"Execution time:\", execution_time, \"seconds\")\n",
    "print(\"Memory usage before code execution:\", memory_usage(), \"MB\")\n",
    "print(find_names('boynames'))"
   ]
  },
  {
   "cell_type": "markdown",
   "metadata": {},
   "source": [
    "Пропала документація скрипту та pylint свариться \"line to long\".\n",
    "Код ШІ є швидшим, ніж запропонований.\n",
    "Код ШІ займає більше пам'яті, ніж запропонований.\n",
    "ШІ добре оптимізував код. Він зменшив кількість рядків, при тому правильність виконання функцій не змінилася. ШІ також додав функцію для читання файлу."
   ]
  },
  {
   "cell_type": "markdown",
   "metadata": {},
   "source": [
    "Спроба 2:\n",
    "Промпт: оптимізуй цей код зберігаючи документацію, усунь непотрібні цикли та зроби виконання коду швидшим і зменши використання пам'яті"
   ]
  },
  {
   "cell_type": "code",
   "execution_count": 66,
   "metadata": {},
   "outputs": [
    {
     "name": "stdout",
     "output_type": "stream",
     "text": [
      "Execution time: 0.0009961128234863281 seconds\n",
      "Memory usage before code execution: 69.43359375 MB\n",
      "(['СОФІЯ', 'АННА', 'ВІКТОРІЯ'], (201, {'МІЛІНА', 'КАМІЛЯ', 'ЕМАНУЕЛЬ', 'ІВАНКА', 'ХАДІДЖА', 'ОЛЕКСАНРДА', 'ФІЛІСІЯ', 'ХЮМА', 'САБРІНА', 'МАРЦЕЛІНА', 'ЕМВЛІЯ', 'ЄВАНГЕЛИНА', 'НІТЗАН', 'ІФА', 'ЄН', 'КАМАЛІЯ', 'ЯРА', 'ЛАТІФА', 'ТАТЯНА', 'ЕЛЬЗА', 'ЛУЇЗА', 'МАЛАНА', 'НАСТЯ', 'ЛАЛІТА', 'КЕЙТ', 'ЛАЛІ', 'АНЕЛІЯ', 'ЛЄОНА', 'МАЛЬВА', 'ГЮНЕШ', 'ЗАЛАТА', 'АСЯ', 'ЛІЯ', 'МІЛЄНА', 'АРІ', 'НАНА', 'АЙТЕН', 'ДЖЕННІФЕР', 'ЯЇЛ', 'ЛІАНА', 'АЛІТЕЯ', 'ІВОНА', 'ФІЛОМЕНА', 'ХАНІФА', 'ТАХЕЛЬ', 'ДАМІНА', 'ЛЕТИЦІЯ', 'ЄЛІЗАВЕТА', 'БАРБАРА', 'МОТРЯ', 'МИХАЙЛИНА', 'ХРИСТИНКА', 'ІЛЛАРІЯ', 'ЦВІТОСЛАВА', 'ІОНА', 'ІНГА', 'ЄЛІЗАВЄТА', 'РАМІНА', 'ЕМІЛІАННА', 'ЗАРІНА', 'КОРНЕЛІЯ', 'АГАФІЯ', 'ЕМІЛІАНА', 'ПАВЛИНА', 'ЛАТОЙЯ', 'МИЛАНА', 'АНДРІЯНА', 'РАХІЛЬ', 'ХЕЛЕНА', 'ЛУІЗА', 'ЮЛАНА', 'МАТИЛЬДА', 'САНДРА', 'РОЗА', 'МЕЛІССА', 'АГІЯ', 'АЛІЯ', 'ЄЛИСАВЕТА', 'ЙОГАННА', 'МІЛАНІЯ', 'АРІЯ', 'ГУЛЬНОРА', 'МАРЯНА', 'ОРИНА', 'ЄЛЕНА', 'ЕСМІРА', 'ІНЕССА', 'ЕМЕЛЬ', 'ЮЛІАНІЯ', 'АВЕЛІНА', 'ГАФІЯ', 'ІЛАННА', 'АРІНЕ', 'СНІЖАННА', 'ДАНІЄЛА', 'ЛІЛАНА', 'АЛІСІЯ', 'ВЕРДЖИНІЯ', 'ХАВВА', 'ЄВЛАЛІЯ', 'КАТАЛЄЯ', 'ҐРЕТА', 'АФІНА', 'ЙОЛАНА', 'ЕЛЬЗАРА', 'ДЖЕНІФЕР', 'СУЛАМІТА', 'ЛІЛАННА', 'ТАЯНА', 'СІРША', 'ЯРЕМІЯ', 'АЛЕКСІС', 'ОДАРКА', 'СИЛЬВІЯ', 'ФАЇНА', 'ВЕДАНА', 'ДЗВЕНИМИРА', 'ЕЛЛІ', 'РАЇСА', 'ЛУНА', 'РОМАНА', 'ЄСЕНІЯ', 'МАЛІКА', 'ХАДІЖА', 'ЄРЕМІЯ', 'РОЕСОЛАНА', 'КАРИНА', 'ОРЕСТА', 'КВІТКА', 'БЕАТРИСА', 'ЛАРИСА', 'ГЕРАРДА', 'ЛЕЙЛА', 'ПОЛІАННА', 'МАРТІНА', 'БЕАТА', 'АЙЛІН', 'ЄМІЛІЯ', 'АРЕТА', 'ЕЛІФ', 'ЛІЛЕЯ', 'БАЖЕНА', 'МЕЛІНА', 'РАДА', 'МАҐДАЛЄНА', 'ДРАГА', \"ЛУК'ЯНА\", 'КАРІАНА', 'ЛАДА', 'РИММА', 'ЛІОНА', 'ФРАНЦІШКА', 'ГЛИКЕРІЯ', 'МЕЛІНІЯ', 'ЖАННА', 'БОГУМИЛА', 'НЕЛІЯ', 'АЙНА', 'РОКСОЛЯНА', 'СВІТОЗАРА', 'ЙОРДАНА', 'ЕЛІЗАБЕТА', 'ЕВА', 'ГАБРІЕЛА', 'ЛІБІ', 'ЯСНА', 'АДЕЛЯ', 'ПАЛОМА', 'РОМАНІЯ', 'ЄЛИЗАВЕТТА', 'АДІКА', 'ВЛАДИСЛАВ', 'ІНБАЛ', 'ЙОРДАНІЯ', \"МЕР'ЯМ\", 'НАЯ', 'ЕЛИЗАБЕТ', 'ЯРИК', 'ЕДІЄ', 'ЮЛДУЗИМ', 'ШАРЛОТТА', 'ЕРМІЛІЯ', 'ЄВАА', 'ЛІАННА', 'ҐРЕЙС', 'ОРИСЛАВА', 'ВІКА', 'ЮЕРО', 'АФРУЗА', 'МІЛЛА', 'АРМІНЕ', 'ЕЛЛА', 'ЕМІЛЬЯНА', 'НАІЛЄ', 'ІЗАБЕЛЬ', 'СЮЗАННА', 'ХІЛІ', 'АНГЕЛИНА', 'ВЄРОНІКА', 'ДОРОФЕЯ', 'АНЯ'}), ('А', 1752, 10325))\n"
     ]
    }
   ],
   "source": [
    "start_time = time.time()\n",
    "def read_data(file_path: str):\n",
    "    \"\"\"\n",
    "    Read data from file and clean up the lines.\n",
    "    \"\"\"\n",
    "    with open(file_path, 'r', encoding=\"UTF-8\") as file:\n",
    "        # Skip the first line\n",
    "        next(file)\n",
    "        lines = [line.strip().split() for line in file]\n",
    "    return lines\n",
    "\n",
    "def three_popular_names(lines):\n",
    "    \"\"\"\n",
    "    Find the 3 most popular names.\n",
    "    \"\"\"\n",
    "    number_counts = {}\n",
    "    for row in lines:\n",
    "        number = int(row[1].replace('(', '').replace(')', ''))\n",
    "        number_counts[row[0]] = number_counts.get(row[0], 0) + number\n",
    "    \n",
    "    top_3_names = sorted(number_counts, key=number_counts.get, reverse=True)[:3]\n",
    "    return top_3_names\n",
    "\n",
    "def only_once(lines):\n",
    "    \"\"\"\n",
    "    Count names that occur only once and return them.\n",
    "    \"\"\"\n",
    "    names_once = {row[0] for row in lines if int(row[1].replace('(', '').replace(')', '')) == 1}\n",
    "    return len(names_once), names_once\n",
    "\n",
    "def letter_counter(lines):\n",
    "    \"\"\"\n",
    "    Count names starting with the most common letter.\n",
    "    \"\"\"\n",
    "    letter_count = {}\n",
    "    for row in lines:\n",
    "        first_letter = row[0][0]\n",
    "        letter_count[first_letter] = letter_count.get(first_letter, 0) + int(row[1].replace('(', '').replace(')', ''))\n",
    "    max_letter = max(letter_count, key=letter_count.get)\n",
    "    max_children = letter_count[max_letter]\n",
    "    total_children = sum(letter_count.values())\n",
    "    return max_letter, max_children, total_children\n",
    "\n",
    "def find_names(file_path: str) -> tuple:\n",
    "    \"\"\"\n",
    "    Main function to solve all problems.\n",
    "    \"\"\"\n",
    "    lines = read_data(file_path)\n",
    "    popular_names = three_popular_names(lines)\n",
    "    names_once_count, names_once = only_once(lines)\n",
    "    max_letter, max_children, total_children = letter_counter(lines)\n",
    "    return popular_names, (names_once_count, names_once), (max_letter, max_children, total_children)\n",
    "end_time = time.time()\n",
    "\n",
    "execution_time = end_time - start_time\n",
    "print(\"Execution time:\", execution_time, \"seconds\")\n",
    "print(\"Memory usage before code execution:\", memory_usage(), \"MB\")\n",
    "print(find_names('boynames'))"
   ]
  },
  {
   "cell_type": "markdown",
   "metadata": {},
   "source": [
    "Код виконується швидше, проте займає більше пам'яті. Також замість запису імен у сет, ШІ зробив запис у список. Також виникає помилка у підрахунку кількості імен, які починаються на букву з максимальною кількістю використання."
   ]
  },
  {
   "cell_type": "markdown",
   "metadata": {},
   "source": [
    "Друге завдання: Caesar"
   ]
  },
  {
   "cell_type": "markdown",
   "metadata": {},
   "source": [
    "Код до оптимізації:"
   ]
  },
  {
   "cell_type": "code",
   "execution_count": 67,
   "metadata": {},
   "outputs": [
    {
     "name": "stdout",
     "output_type": "stream",
     "text": [
      "Execution time: 0.0 seconds\n",
      "Memory usage before code execution: 69.44140625 MB\n"
     ]
    }
   ],
   "source": [
    "\"\"\"This function encrypts sentences with a Caesar cipher.\"\"\"\n",
    "start_time = time.time()\n",
    "def caesar_encode(message: str, key: int) -> str:\n",
    "    \"\"\"\n",
    "    (str, int)-> str\n",
    "    Each sentence must consist of words with only letters.\n",
    "    The Caesar cipher makes the shift circular.\n",
    "    If the sentence contains characters other than letters or spaces, the function must return None.\n",
    "    \n",
    "    >>> caesar_encode(\"computer\", 3)\n",
    "    'frpsxwhu'\n",
    "    >>> caesar_encode(\"hello\", 4)\n",
    "    'lipps'\n",
    "    >>> caesar_encode(\"alpha\", 7)\n",
    "    'hswoh'\n",
    "    >>> caesar_encode(\"zebra and sun\", 6)\n",
    "    'fkhxg gtj yat'\n",
    "    >>> caesar_encode(\"1 star\", 4)\n",
    "\n",
    "    \"\"\"\n",
    "    caesar_code = ''\n",
    "\n",
    "    if isinstance(message, str) and isinstance(key, int):\n",
    "        for i in message:\n",
    "            if i.isalpha():\n",
    "                distance = ord(i) - 97\n",
    "                shift = distance + key\n",
    "                only_alph = shift % 26 + 97\n",
    "                caesar_code += chr(only_alph)\n",
    "            if i == ' ':\n",
    "                caesar_code += ' '\n",
    "            if i.isdigit():\n",
    "                return None\n",
    "        return caesar_code\n",
    "def caesar_decode(message: str, key: int) -> str:\n",
    "    \"\"\"\n",
    "    (str, int)-> str\n",
    "    Each sentence must consist of words with only letters.\n",
    "    The Caesar cipher makes the shift circular.\n",
    "    If the sentence contains characters other than letters or spaces, the function must return None.\n",
    "    \n",
    "    >>> caesar_decode(\"frpsxwhu\", 3)\n",
    "    'computer'\n",
    "    >>> caesar_decode(\"lipps\", 4)\n",
    "    'hello'\n",
    "    >>> caesar_decode(\"hswoh\", 7)\n",
    "    'alpha'\n",
    "    >>> caesar_decode(\"fkhxg gtj yat\", 6)\n",
    "    'zebra and sun'\n",
    "    >>> caesar_decode(\"1 star\", 4)\n",
    "\n",
    "    \"\"\"\n",
    "    caesar_decoded = ''\n",
    "\n",
    "    if isinstance(message, str) and isinstance(key, int):\n",
    "        for i in message:\n",
    "            if i.isalpha():\n",
    "                distance = ord(i) - 97\n",
    "                shift = distance - key\n",
    "                only_alph = shift % 26 + 97\n",
    "                caesar_decoded += chr(only_alph)\n",
    "            if i == ' ':\n",
    "                caesar_decoded += ' '\n",
    "            if i.isdigit():\n",
    "                return None\n",
    "        return caesar_decoded\n",
    "end_time = time.time()\n",
    "\n",
    "execution_time = end_time - start_time\n",
    "print(\"Execution time:\", execution_time, \"seconds\")\n",
    "print(\"Memory usage before code execution:\", memory_usage(), \"MB\")"
   ]
  },
  {
   "cell_type": "markdown",
   "metadata": {},
   "source": [
    "Код після оптимізації:\n",
    "Промпт: оптимізуй цей код"
   ]
  },
  {
   "cell_type": "code",
   "execution_count": 68,
   "metadata": {},
   "outputs": [
    {
     "name": "stdout",
     "output_type": "stream",
     "text": [
      "Execution time: 0.0 seconds\n",
      "Memory usage before code execution: 69.50390625 MB\n"
     ]
    }
   ],
   "source": [
    "start_time = time.time()\n",
    "def caesar_encode(message: str, key: int) -> str:\n",
    "    \"\"\"\n",
    "    (str, int) -> str\n",
    "    Encrypts the message using the Caesar cipher with the given key.\n",
    "    Returns the encrypted message.\n",
    "    \"\"\"\n",
    "    caesar_code = ''\n",
    "\n",
    "    if not isinstance(message, str) or not isinstance(key, int):\n",
    "        return None\n",
    "\n",
    "    for char in message:\n",
    "        if char.isalpha():\n",
    "            base = ord('a') if char.islower() else ord('A')\n",
    "            shifted = (ord(char) - base + key) % 26 + base\n",
    "            caesar_code += chr(shifted)\n",
    "        elif char == ' ':\n",
    "            caesar_code += ' '\n",
    "        else:\n",
    "            return None\n",
    "\n",
    "    return caesar_code\n",
    "\n",
    "def caesar_decode(message: str, key: int) -> str:\n",
    "    \"\"\"\n",
    "    (str, int) -> str\n",
    "    Decrypts the message using the Caesar cipher with the given key.\n",
    "    Returns the decrypted message.\n",
    "    \"\"\"\n",
    "    caesar_decoded = ''\n",
    "\n",
    "    if not isinstance(message, str) or not isinstance(key, int):\n",
    "        return None\n",
    "\n",
    "    for char in message:\n",
    "        if char.isalpha():\n",
    "            base = ord('a') if char.islower() else ord('A')\n",
    "            shifted = (ord(char) - base - key) % 26 + base\n",
    "            caesar_decoded += chr(shifted)\n",
    "        elif char == ' ':\n",
    "            caesar_decoded += ' '\n",
    "        else:\n",
    "            return None\n",
    "\n",
    "    return caesar_decoded\n",
    "end_time = time.time()\n",
    "\n",
    "execution_time = end_time - start_time\n",
    "print(\"Execution time:\", execution_time, \"seconds\")\n",
    "print(\"Memory usage before code execution:\", memory_usage(), \"MB\")"
   ]
  },
  {
   "cell_type": "markdown",
   "metadata": {},
   "source": [
    "Код працює правильно, але при оптимізації ШІ забрав доктести. Чат оптимізував код, проте зміни не є значні. Код оптимізований ШІ працює швидше, проте займає більше місця."
   ]
  },
  {
   "cell_type": "markdown",
   "metadata": {},
   "source": [
    "Друга спроба:\n",
    "Промпт: оптимізуй цей код зберігаючи документацію, усунь непотрібні цикли та зроби виконання коду швидшим і зменши використання пам'яті\n"
   ]
  },
  {
   "cell_type": "code",
   "execution_count": 69,
   "metadata": {},
   "outputs": [
    {
     "name": "stdout",
     "output_type": "stream",
     "text": [
      "Execution time: 0.000997304916381836 seconds\n",
      "Memory usage before code execution: 69.515625 MB\n"
     ]
    }
   ],
   "source": [
    "start_time = time.time()\n",
    "def caesar_encode(message: str, key: int) -> str:\n",
    "    \"\"\"\n",
    "    (str, int)-> str\n",
    "    Each sentence must consist of words with only letters.\n",
    "    The Caesar cipher makes the shift circular.\n",
    "    If the sentence contains characters other than letters or spaces, the function must return None.\n",
    "    \n",
    "    >>> caesar_encode(\"computer\", 3)\n",
    "    'frpsxwhu'\n",
    "    >>> caesar_encode(\"hello\", 4)\n",
    "    'lipps'\n",
    "    >>> caesar_encode(\"alpha\", 7)\n",
    "    'hswoh'\n",
    "    >>> caesar_encode(\"zebra and sun\", 6)\n",
    "    'fkhxg gtj yat'\n",
    "    >>> caesar_encode(\"1 star\", 4)\n",
    "    \"\"\"\n",
    "    if not all(char.isalpha() or char.isspace() for char in message):\n",
    "        return None\n",
    "    \n",
    "    caesar_code = ''\n",
    "    for char in message:\n",
    "        if char.isalpha():\n",
    "            base = ord('a') if char.islower() else ord('A')\n",
    "            shifted = (ord(char) - base + key) % 26 + base\n",
    "            caesar_code += chr(shifted)\n",
    "        else:\n",
    "            caesar_code += char\n",
    "    return caesar_code\n",
    "\n",
    "def caesar_decode(message: str, key: int) -> str:\n",
    "    \"\"\"\n",
    "    (str, int)-> str\n",
    "    Each sentence must consist of words with only letters.\n",
    "    The Caesar cipher makes the shift circular.\n",
    "    If the sentence contains characters other than letters or spaces, the function must return None.\n",
    "    \n",
    "    >>> caesar_decode(\"frpsxwhu\", 3)\n",
    "    'computer'\n",
    "    >>> caesar_decode(\"lipps\", 4)\n",
    "    'hello'\n",
    "    >>> caesar_decode(\"hswoh\", 7)\n",
    "    'alpha'\n",
    "    >>> caesar_decode(\"fkhxg gtj yat\", 6)\n",
    "    'zebra and sun'\n",
    "    >>> caesar_decode(\"1 star\", 4)\n",
    "    \"\"\"\n",
    "    if not all(char.isalpha() or char.isspace() for char in message):\n",
    "        return None\n",
    "    \n",
    "    caesar_decoded = ''\n",
    "    for char in message:\n",
    "        if char.isalpha():\n",
    "            base = ord('a') if char.islower() else ord('A')\n",
    "            shifted = (ord(char) - base - key) % 26 + base\n",
    "            caesar_decoded += chr(shifted)\n",
    "        else:\n",
    "            caesar_decoded += char\n",
    "    return caesar_decoded\n",
    "end_time = time.time()\n",
    "\n",
    "execution_time = end_time - start_time\n",
    "print(\"Execution time:\", execution_time, \"seconds\")\n",
    "print(\"Memory usage before code execution:\", memory_usage(), \"MB\")"
   ]
  },
  {
   "cell_type": "markdown",
   "metadata": {},
   "source": [
    "Чат оптимізував код, проте зміни не є значні. Код оптимізований ШІ не працює швидше і займає більше місця."
   ]
  },
  {
   "cell_type": "markdown",
   "metadata": {},
   "source": [
    "Третє завдання: Star triangle"
   ]
  },
  {
   "cell_type": "markdown",
   "metadata": {},
   "source": [
    "Код до оптимізації:"
   ]
  },
  {
   "cell_type": "code",
   "execution_count": 70,
   "metadata": {},
   "outputs": [
    {
     "name": "stdout",
     "output_type": "stream",
     "text": [
      "*\n",
      "**\n",
      "***\n",
      "****\n",
      "Execution time: 0.00122833251953125 seconds\n",
      "Memory usage before code execution: 69.515625 MB\n"
     ]
    }
   ],
   "source": [
    "start_time = time.time()\n",
    "h = 4\n",
    "\n",
    "for i in range(h):\n",
    "    for j in range(i+1):\n",
    "        print(\"*\", end=\"\")\n",
    "    print()\n",
    "\n",
    "end_time = time.time()\n",
    "\n",
    "execution_time = end_time - start_time\n",
    "print(\"Execution time:\", execution_time, \"seconds\")\n",
    "print(\"Memory usage before code execution:\", memory_usage(), \"MB\")"
   ]
  },
  {
   "cell_type": "markdown",
   "metadata": {},
   "source": [
    "Код після оптимізації:\n",
    "Промпт:\n",
    "оптимізуй цей код"
   ]
  },
  {
   "cell_type": "code",
   "execution_count": 71,
   "metadata": {},
   "outputs": [
    {
     "name": "stdout",
     "output_type": "stream",
     "text": [
      "*\n",
      "**\n",
      "***\n",
      "****\n",
      "Execution time: 0.0009784698486328125 seconds\n",
      "Memory usage before code execution: 69.515625 MB\n"
     ]
    }
   ],
   "source": [
    "start_time = time.time()\n",
    "h = 4\n",
    "\n",
    "for i in range(1, h + 1):\n",
    "    print(\"*\" * i)\n",
    "\n",
    "end_time = time.time()\n",
    "\n",
    "execution_time = end_time - start_time\n",
    "print(\"Execution time:\", execution_time, \"seconds\")\n",
    "print(\"Memory usage before code execution:\", memory_usage(), \"MB\")"
   ]
  },
  {
   "cell_type": "markdown",
   "metadata": {},
   "source": [
    "ШІ чудово справився із задачею. Код ШІ є швидшим, проте вони займають однаковий обсяг пам'яті."
   ]
  },
  {
   "cell_type": "markdown",
   "metadata": {},
   "source": [
    "Спроба друга:\n",
    "Промпт:"
   ]
  },
  {
   "cell_type": "code",
   "execution_count": 72,
   "metadata": {},
   "outputs": [
    {
     "name": "stdout",
     "output_type": "stream",
     "text": [
      "*\n",
      "**\n",
      "***\n",
      "****\n",
      "Execution time: 0.0009965896606445312 seconds\n",
      "Memory usage before code execution: 69.515625 MB\n"
     ]
    }
   ],
   "source": [
    "start_time = time.time()\n",
    "h = 4\n",
    "for i in range(1, h + 1):\n",
    "    print(\"*\" * i)\n",
    "\n",
    "end_time = time.time()\n",
    "\n",
    "execution_time = end_time - start_time\n",
    "print(\"Execution time:\", execution_time, \"seconds\")\n",
    "print(\"Memory usage before code execution:\", memory_usage(), \"MB\")"
   ]
  },
  {
   "cell_type": "markdown",
   "metadata": {},
   "source": [
    "Навіть при більшому промпту, ШІ видав ту саму відповідь. При цьому час виконання та обсяг пам'яті не змінився."
   ]
  }
 ],
 "metadata": {
  "kernelspec": {
   "display_name": "Python 3",
   "language": "python",
   "name": "python3"
  },
  "language_info": {
   "codemirror_mode": {
    "name": "ipython",
    "version": 3
   },
   "file_extension": ".py",
   "mimetype": "text/x-python",
   "name": "python",
   "nbconvert_exporter": "python",
   "pygments_lexer": "ipython3",
   "version": "3.11.5"
  }
 },
 "nbformat": 4,
 "nbformat_minor": 2
}
