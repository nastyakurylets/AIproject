{
 "cells": [
  {
   "cell_type": "markdown",
   "metadata": {},
   "source": [
    "__Процедурне__\n",
    "https://cms.ucu.edu.ua/mod/vpl/view.php?id=306619"
   ]
  },
  {
   "cell_type": "markdown",
   "metadata": {},
   "source": [
    "_Початковий код:_"
   ]
  },
  {
   "cell_type": "code",
   "execution_count": null,
   "metadata": {},
   "outputs": [],
   "source": [
    "import string\n",
    "import random\n",
    "\n",
    "alphabet = list(string.ascii_uppercase)\n",
    "vowels=['A', 'E', 'I', 'O', 'U', 'Y']\n",
    "EN=r\"D:\\УКУ\\ОП\\1semester\\Lab6\\en.txt\"\n",
    "\n",
    "def three_letters()->list[str]:\n",
    "    \"\"\"\n",
    "    Generates list of letters.\n",
    "    \"\"\"\n",
    "    letter_list=random.choices(alphabet, k = 3)\n",
    "    return letter_list\n",
    "def generate_grid()->list[list[str]]:\n",
    "    \"\"\"\n",
    "    Generates list of lists of letters - i.e. grid for the game.\n",
    "    e.g. [['I', 'G', 'E'], ['P', 'I', 'S'], ['W', 'M', 'G']]\n",
    "    \"\"\"\n",
    "    my_grid=[]\n",
    "    counter=0\n",
    "    vowels_counter=0\n",
    "    while counter<3:\n",
    "        my_grid.append(three_letters())\n",
    "        counter+=1\n",
    "    for element in my_grid:\n",
    "        for letter in element:\n",
    "            if letter in vowels:\n",
    "                vowels_counter+=1\n",
    "    if vowels_counter!=3:\n",
    "        return generate_grid()\n",
    "    return my_grid\n",
    "def listok_of_letters(listochok:list[list[str]])->list[str]:\n",
    "    \"\"\"\"\n",
    "    Make one list of letters from the list of lists of letters.\n",
    "    \"\"\"\n",
    "    letters_list=[]\n",
    "    for element in listochok:\n",
    "        for letter in element:\n",
    "            letters_list.append(letter.lower())\n",
    "    return letters_list\n",
    "def get_user_words()->list[str]:\n",
    "    \"\"\"\n",
    "    Gets words from user input and returns a list with these words.\n",
    "    Usage: enter a word or press ctrl+d to finish for *nix or Ctrl-Z+Enter \n",
    "    for Windows.\n",
    "    Note: the user presses the enter key after entering each word.\n",
    "    \"\"\"\n",
    "    user_words_listok=[]\n",
    "    while True:\n",
    "        try:\n",
    "            user_words=input()\n",
    "            user_words_listok.append(user_words)\n",
    "        except EOFError:\n",
    "            return user_words_listok\n",
    "def get_words(text:str, letters:list[str])->list[str]:\n",
    "    \"\"\"\n",
    "    Checks the words with rules and returns a list of words.\n",
    "    >>> get_words('en.txt', ['e', 't', 'o', 'o', 'p', 'n', 'p', 'u', 'r']) \n",
    "    ['epopt', 'erupt', 'netop', 'noop', 'nope', 'noup', 'nupe', 'open', 'opportune',\n",
    " 'outpop', 'pent', 'peon', 'pepo', 'pern', 'pert', 'peru', 'perun', 'peto', 'poet', 'pone',\n",
    " 'pont', 'ponto', 'poon', 'poop', 'poor', 'poot', 'pope', 'pore', 'port', 'porteno', 'porto',\n",
    " 'pote', 'poter', 'pour', 'pout', 'pouter', 'prep', 'prone', 'pronto', 'proo', 'prop', 'propone',\n",
    " 'prote', 'proto', 'proton', 'protone', 'prue', 'prune', 'prunt', 'prut', 'puno', 'punt',\n",
    " 'punter', 'punto', 'pure', 'repot', 'repp', 'rope', 'ropp', 'roup', 'roupet', 'tepor',\n",
    " 'terp', 'toop', 'tope', 'topepo', 'toper', 'topo', 'topper', 'toprope', 'toup', 'troop',\n",
    " 'trope', 'troupe', 'turp', 'unpope', 'unpot', 'unprop', 'unrope', 'untop', 'upon', 'uppent', \n",
    "'upper', 'uproot', 'uptorn']\n",
    "    \"\"\"\n",
    "    with open(text, 'r', encoding='UTF-8') as file:\n",
    "        data=file.readlines()\n",
    "        all_data=[line.strip('\\n') for line in data[3:]]\n",
    "        list_of_words=[]\n",
    "        letters_copy_cop=[]\n",
    "        central_letter=letters[4]\n",
    "        for line1 in all_data:\n",
    "            length_line1=len(line1)\n",
    "            counter_of_centre=0\n",
    "            line1=line1.lower()\n",
    "            if length_line1<4:\n",
    "                continue\n",
    "            for i in range(length_line1):\n",
    "                letter=line1[i]\n",
    "                if letter==central_letter:\n",
    "                    counter_of_centre+=1\n",
    "                if i==length_line1-1:\n",
    "                    if letter not in letters:\n",
    "                        break\n",
    "                    letters_copy_cop.append(letter)\n",
    "                    letters.remove(letter)\n",
    "                    if counter_of_centre>0:\n",
    "                        if line1 not in list_of_words:\n",
    "                            list_of_words.append(line1)\n",
    "                    break\n",
    "                if letter not in letters:\n",
    "                    break\n",
    "                letters_copy_cop.append(letter)\n",
    "                letters.remove(letter)\n",
    "            if not letters_copy_cop:\n",
    "                continue\n",
    "            for element in letters_copy_cop:\n",
    "                letters.append(element)\n",
    "            letters_copy_cop=[]\n",
    "        return list_of_words\n",
    "def get_pure_user_words(user_words:list[str], letters:list, words_from_dict: list[str])->list[str]:\n",
    "    \"\"\"\n",
    "    Checks user words with the rules and returns list of those words\n",
    "    that are not in dictionary.\n",
    "    >>> get_pure_user_words(['upper', 'pet', 'uproot', 'open', 'opto'],\\\n",
    "['e', 't', 'o', 'o', 'p', 'n', 'p', 'u', 'r'],\\\n",
    "['epopt', 'erupt', 'netop', 'noop', 'nope', 'noup', 'nupe', 'open', 'opportune',\\\n",
    "'outpop', 'pent', 'peon', 'pepo', 'pern', 'pert', 'peru', 'perun', 'peto', 'poet', 'pone',\\\n",
    "'pont', 'ponto', 'poon', 'poop', 'poor', 'poot', 'pope', 'pore', 'port', 'porteno', 'porto',\\\n",
    "'pote', 'poter', 'pour', 'pout', 'pouter', 'prep', 'prone', 'pronto', 'proo', 'prop', 'propone',\\\n",
    "'prote', 'proto', 'proton', 'protone', 'prue', 'prune', 'prunt', 'prut', 'puno', 'punt',\\\n",
    "'punter', 'punto', 'pure', 'repot', 'repp', 'rope', 'ropp', 'roup', 'roupet', 'tepor',\\\n",
    "'terp', 'toop', 'tope', 'topepo', 'toper', 'topo', 'topper', 'toprope', 'toup', 'troop',\\\n",
    "'trope', 'troupe', 'turp', 'unpope', 'unpot', 'unprop', 'unrope', 'untop', 'upon', 'uppent',\\\n",
    "'upper', 'uproot', 'uptorn'])\n",
    "    ['opto']\n",
    "    \"\"\"\n",
    "    final_list=[]\n",
    "    list_of_words=[]\n",
    "    letters_copy_cop=[]\n",
    "    central_letter=letters[4]\n",
    "    for line1 in user_words:\n",
    "        length_line1=len(line1)\n",
    "        counter_of_centre=0\n",
    "        line1=line1.lower()\n",
    "        if length_line1<4:\n",
    "            continue\n",
    "        for i in range(length_line1):\n",
    "            letter=line1[i]\n",
    "            if letter==central_letter:\n",
    "                counter_of_centre+=1\n",
    "            if i==length_line1-1:\n",
    "                if letter not in letters:\n",
    "                    break\n",
    "                letters_copy_cop.append(letter)\n",
    "                letters.remove(letter)\n",
    "                if counter_of_centre>0:\n",
    "                    list_of_words.append(line1)\n",
    "                break\n",
    "            if letter not in letters:\n",
    "                break\n",
    "            letters_copy_cop.append(letter)\n",
    "            letters.remove(letter)\n",
    "        if not letters_copy_cop:\n",
    "            continue\n",
    "        for element in letters_copy_cop:\n",
    "            letters.append(element)\n",
    "        letters_copy_cop=[]\n",
    "    for word in list_of_words:\n",
    "        if word not in words_from_dict:\n",
    "            final_list.append(word)\n",
    "    return final_list\n",
    "def number_right_words(user_words:list[str], words_from_dict: list[str])->int:\n",
    "    \"\"\"\n",
    "    Checks user words with the rules and returns number of right words.\n",
    "    \"\"\"\n",
    "    right_words=0\n",
    "    for user_word in user_words:\n",
    "        for dict_word in words_from_dict:\n",
    "            if user_word==dict_word:\n",
    "                right_words+=1\n",
    "    return right_words\n",
    "def missed(user_words:list[str], words_from_dict: list[str])->list[str]:\n",
    "    \"\"\"\n",
    "    Checks user words with the rules and returns list of those words\n",
    "    that are not in the user's list.\n",
    "    \"\"\"\n",
    "    missed_words=words_from_dict.copy()\n",
    "    for user_word in user_words:\n",
    "        for dict_word in missed_words:\n",
    "            if user_word==dict_word:\n",
    "                missed_words.remove(dict_word)\n",
    "    return missed_words\n",
    "\n",
    "def main():\n",
    "    \"\"\"\n",
    "    Doing different functions to create a game.\n",
    "    \"\"\"\n",
    "    user_grid=generate_grid()\n",
    "    print(f'Your board is {user_grid}\\nPlease suggest your words here:')\n",
    "    user_words_list=get_user_words()\n",
    "    letters_list=listok_of_letters(user_grid)\n",
    "    words_from_dict=get_words(EN, letters_list)\n",
    "    print('Number of the right words',number_right_words(user_words_list, words_from_dict))\n",
    "    print('All possible words:\\n',words_from_dict)\n",
    "    print('You missed the following words:\\n',missed(user_words_list, words_from_dict))\n",
    "    print(\"You suggest, but we don't have them in the dictionary:\",\\\n",
    "get_pure_user_words(user_words_list,letters_list, words_from_dict))\n",
    "\n",
    "if __name__ == '__main__':\n",
    "    main()"
   ]
  },
  {
   "cell_type": "markdown",
   "metadata": {},
   "source": [
    "Цей код проходить всі необхідні тести, проте є не оптимізованим."
   ]
  },
  {
   "cell_type": "markdown",
   "metadata": {},
   "source": [
    "Для обрахунку пам'яті використовувала такий код:"
   ]
  },
  {
   "cell_type": "code",
   "execution_count": null,
   "metadata": {},
   "outputs": [],
   "source": [
    "import psutil\n",
    "def memory_usage():\n",
    "    process = psutil.Process()\n",
    "    mem = process.memory_info().rss / (1024 * 1024)\n",
    "    return mem\n",
    "print(memory_usage())"
   ]
  },
  {
   "cell_type": "markdown",
   "metadata": {},
   "source": [
    "Пам'ять використовувалася в межах 15Mb"
   ]
  },
  {
   "attachments": {
    "image.png": {
     "image/png": "[encoded data removed]"
    }
   },
   "cell_type": "markdown",
   "metadata": {},
   "source": [
    "![image.png](attachment:image.png)"
   ]
  },
  {
   "cell_type": "markdown",
   "metadata": {},
   "source": [
    "Для обрахунку часу такий код:"
   ]
  },
  {
   "cell_type": "code",
   "execution_count": null,
   "metadata": {},
   "outputs": [],
   "source": [
    "import time\n",
    "start_time = time.time()\n",
    "end_time = time.time()\n",
    "execution_time = end_time - start_time\n",
    "print(execution_time)"
   ]
  },
  {
   "cell_type": "markdown",
   "metadata": {},
   "source": [
    "Час:"
   ]
  },
  {
   "attachments": {
    "image.png": {
     "image/png": "[encoded data removed]"
    }
   },
   "cell_type": "markdown",
   "metadata": {},
   "source": [
    "![image.png](attachment:image.png)"
   ]
  },
  {
   "cell_type": "markdown",
   "metadata": {},
   "source": [
    "Спробуймо оптимізувати його за допомогою ШІ за допомогою загальної умови \"Оптимізуй наступний код\""
   ]
  },
  {
   "cell_type": "code",
   "execution_count": null,
   "metadata": {},
   "outputs": [],
   "source": [
    "import string\n",
    "import random\n",
    "\n",
    "alphabet = list(string.ascii_uppercase)\n",
    "vowels = ['A', 'E', 'I', 'O', 'U', 'Y']\n",
    "EN = r\"D:\\УКУ\\ОП\\1semester\\Lab6\\en.txt\"\n",
    "\n",
    "def generate_three_letters() -> list[str]:\n",
    "    \"\"\"Generate a list of three random letters.\"\"\"\n",
    "    return random.choices(alphabet, k=3)\n",
    "\n",
    "def generate_grid() -> list[list[str]]:\n",
    "    \"\"\"Generate a grid for the game.\"\"\"\n",
    "    my_grid = [generate_three_letters() for _ in range(3)]\n",
    "    vowels_counter = sum(letter in vowels for row in my_grid for letter in row)\n",
    "    if vowels_counter != 3:\n",
    "        return generate_grid()  # Avoids recursion, uses a loop instead\n",
    "    return my_grid\n",
    "\n",
    "def flatten_grid(grid: list[list[str]]) -> list[str]:\n",
    "    \"\"\"Flatten the grid into a single list of letters.\"\"\"\n",
    "    return [letter.lower() for row in grid for letter in row]\n",
    "\n",
    "def get_user_words() -> list[str]:\n",
    "    \"\"\"Get words from user input.\"\"\"\n",
    "    print(\"Enter words (press Ctrl+D on Unix or Ctrl+Z on Windows to finish):\")\n",
    "    return [word.strip() for word in iter(input, '')]\n",
    "\n",
    "def load_dictionary(file: str) -> set[str]:\n",
    "    \"\"\"Load a set of words from a file.\"\"\"\n",
    "    with open(file, 'r', encoding='utf-8') as f:\n",
    "        return {line.strip().lower() for line in f.readlines()[3:]}\n",
    "\n",
    "def filter_user_words(user_words: list[str], valid_words: set[str]) -> list[str]:\n",
    "    \"\"\"Filter user words against the valid words.\"\"\"\n",
    "    return [word for word in user_words if word.lower() not in valid_words]\n",
    "\n",
    "def main():\n",
    "    \"\"\"Run the game.\"\"\"\n",
    "    user_grid = generate_grid()\n",
    "    print(f\"Your board is {user_grid}\")\n",
    "    user_words = get_user_words()\n",
    "    letters_list = flatten_grid(user_grid)\n",
    "    dictionary = load_dictionary(EN)\n",
    "    valid_words = [word for word in dictionary if set(word).issubset(set(letters_list))]\n",
    "    print('Number of correct words:', len(set(user_words) & valid_words))\n",
    "    print('All possible words:\\n', valid_words)\n",
    "    print('Words missed by the user:\\n', filter_user_words(user_words, valid_words))\n",
    "    print(\"User suggested, but not in dictionary:\", filter_user_words(user_words, dictionary))\n",
    "\n",
    "if __name__ == '__main__':\n",
    "    main()\n"
   ]
  },
  {
   "cell_type": "markdown",
   "metadata": {},
   "source": [
    "Код став виглядати меншим і дійсно акуратніший та компактніший, проте через зміну назв функцій, тести не проходять. Навіть, якщо використовувати його вручну, видає помилку."
   ]
  },
  {
   "attachments": {
    "image.png": {
     "image/png": "[encoded data removed]"
    }
   },
   "cell_type": "markdown",
   "metadata": {},
   "source": [
    "![image.png](attachment:image.png)"
   ]
  },
  {
   "cell_type": "markdown",
   "metadata": {},
   "source": [
    "Спробуймо змінити прохання на \"Оптимізуй без зміни назв функцій\"."
   ]
  },
  {
   "cell_type": "code",
   "execution_count": null,
   "metadata": {},
   "outputs": [],
   "source": [
    "import string\n",
    "import random\n",
    "\n",
    "alphabet = list(string.ascii_uppercase)\n",
    "vowels = ['A', 'E', 'I', 'O', 'U', 'Y']\n",
    "EN = r\"D:\\УКУ\\ОП\\1semester\\Lab6\\en.txt\"\n",
    "\n",
    "def three_letters() -> list[str]:\n",
    "    \"\"\"\n",
    "    Generates list of letters.\n",
    "    \"\"\"\n",
    "    return random.choices(alphabet, k=3)\n",
    "\n",
    "def generate_grid() -> list[list[str]]:\n",
    "    \"\"\"\n",
    "    Generates list of lists of letters - i.e. grid for the game.\n",
    "    e.g. [['I', 'G', 'E'], ['P', 'I', 'S'], ['W', 'M', 'G']]\n",
    "    \"\"\"\n",
    "    while True:\n",
    "        my_grid = [three_letters() for _ in range(3)]\n",
    "        if sum(letter in vowels for row in my_grid for letter in row) == 3:\n",
    "            return my_grid\n",
    "\n",
    "def listok_of_letters(listochok: list[list[str]]) -> list[str]:\n",
    "    \"\"\"\"\n",
    "    Make one list of letters from the list of lists of letters.\n",
    "    \"\"\"\n",
    "    return [letter.lower() for sublist in listochok for letter in sublist]\n",
    "\n",
    "def get_user_words() -> list[str]:\n",
    "    \"\"\"\n",
    "    Gets words from user input and returns a list with these words.\n",
    "    Usage: enter a word or press ctrl+d to finish for *nix or Ctrl-Z+Enter \n",
    "    for Windows.\n",
    "    Note: the user presses the enter key after entering each word.\n",
    "    \"\"\"\n",
    "    user_words_listok = []\n",
    "    while True:\n",
    "        try:\n",
    "            user_words_listok.append(input())\n",
    "        except EOFError:\n",
    "            return user_words_listok\n",
    "\n",
    "def get_words(text: str, letters: list[str]) -> list[str]:\n",
    "    \"\"\"\n",
    "    Checks the words with rules and returns a list of words.\n",
    "    \"\"\"\n",
    "    with open(text, 'r', encoding='UTF-8') as file:\n",
    "        data = [line.strip('\\n') for line in file.readlines()[3:]]\n",
    "        words = []\n",
    "        central_letter = letters[4]\n",
    "        for word in data:\n",
    "            if len(word) < 4:\n",
    "                continue\n",
    "            word = word.lower()\n",
    "            counter_of_centre = word.count(central_letter)\n",
    "            if all(letter in letters for letter in word):\n",
    "                if counter_of_centre > 0 and word not in words:\n",
    "                    words.append(word)\n",
    "                for letter in word:\n",
    "                    if letter in letters:\n",
    "                        letters.remove(letter)\n",
    "        return words\n",
    "\n",
    "def get_pure_user_words(user_words: list[str], letters: list, words_from_dict: list[str]) -> list[str]:\n",
    "    \"\"\"\n",
    "    Checks user words with the rules and returns list of those words\n",
    "    that are not in dictionary.\n",
    "    \"\"\"\n",
    "    final_list = []\n",
    "    central_letter = letters[4]\n",
    "    for word in user_words:\n",
    "        if len(word) < 4:\n",
    "            continue\n",
    "        word = word.lower()\n",
    "        if all(letter in letters for letter in word):\n",
    "            if word not in words_from_dict and word.count(central_letter) > 0:\n",
    "                final_list.append(word)\n",
    "                for letter in word:\n",
    "                    if letter in letters:\n",
    "                        letters.remove(letter)\n",
    "    return final_list\n",
    "\n",
    "def number_right_words(user_words: list[str], words_from_dict: list[str]) -> int:\n",
    "    \"\"\"\n",
    "    Checks user words with the rules and returns number of right words.\n",
    "    \"\"\"\n",
    "    return sum(user_word in words_from_dict for user_word in user_words)\n",
    "\n",
    "def missed(user_words: list[str], words_from_dict: list[str]) -> list[str]:\n",
    "    \"\"\"\n",
    "    Checks user words with the rules and returns list of those words\n",
    "    that are not in the user's list.\n",
    "    \"\"\"\n",
    "    return [word for word in words_from_dict if word not in user_words]\n",
    "\n",
    "def main():\n",
    "    \"\"\"\n",
    "    Doing different functions to create a game.\n",
    "    \"\"\"\n",
    "    user_grid = generate_grid()\n",
    "    print(f'Your board is {user_grid}\\nPlease suggest your words here:')\n",
    "    user_words_list = get_user_words()\n",
    "    letters_list = listok_of_letters(user_grid)\n",
    "    words_from_dict = get_words(EN, letters_list)\n",
    "    print('Number of the right words', number_right_words(user_words_list, words_from_dict))\n",
    "    print('All possible words:\\n', words_from_dict)\n",
    "    print('You missed the following words:\\n', missed(user_words_list, words_from_dict))\n",
    "    print(\"You suggest, but we don't have them in the dictionary:\",\n",
    "          get_pure_user_words(user_words_list, letters_list, words_from_dict))\n",
    "\n",
    "if __name__ == '__main__':\n",
    "    main()\n"
   ]
  },
  {
   "cell_type": "markdown",
   "metadata": {},
   "source": [
    "Все одно не всі тести проходять, але вже краще - 0,22/1. Якщо ж перевіряти вручну, то видає таку помилку:"
   ]
  },
  {
   "attachments": {
    "image.png": {
     "image/png": "[encoded data removed]"
    }
   },
   "cell_type": "markdown",
   "metadata": {},
   "source": [
    "![image.png](attachment:image.png)"
   ]
  },
  {
   "cell_type": "markdown",
   "metadata": {},
   "source": [
    "Спробуймо оптимізувати окремо кожну функцію."
   ]
  },
  {
   "cell_type": "code",
   "execution_count": 16,
   "metadata": {},
   "outputs": [
    {
     "name": "stdout",
     "output_type": "stream",
     "text": [
      "Your board is [['I', 'T', 'O'], ['W', 'G', 'F'], ['Q', 'C', 'E']]\n",
      "Please suggest your words here:\n"
     ]
    }
   ],
   "source": [
    "import string\n",
    "import numpy as np\n",
    "\n",
    "alphabet = np.array(list(string.ascii_uppercase))\n",
    "vowels = {'A', 'E', 'I', 'O', 'U', 'Y'}\n",
    "\n",
    "def three_letters() -> list[str]:\n",
    "    \"\"\"\n",
    "    Generates list of letters.\n",
    "    \"\"\"\n",
    "    letter_list = np.random.choice(alphabet, size=3)\n",
    "    return letter_list.tolist()\n",
    "def generate_grid() -> list[list[str]]:\n",
    "    \"\"\"\n",
    "    Generates list of lists of letters - i.e. grid for the game.\n",
    "    e.g. [['I', 'G', 'E'], ['P', 'I', 'S'], ['W', 'M', 'G']]\n",
    "    \"\"\"\n",
    "    my_grid = [three_letters() for _ in range(3)]\n",
    "\n",
    "    vowels_counter = sum(letter in vowels for row in my_grid for letter in row)\n",
    "\n",
    "    if vowels_counter != 3:\n",
    "        return generate_grid()\n",
    "    return my_grid\n",
    "def list_of_letters(grid: list[list[str]]) -> list[str]:\n",
    "    \"\"\"\"\n",
    "    Make one list of letters from the list of lists of letters.\n",
    "    \"\"\"\n",
    "    return [letter.lower() for row in grid for letter in row]\n",
    "def get_user_words() -> list[str]:\n",
    "    \"\"\"\n",
    "    Gets words from user input and returns a list with these words.\n",
    "    Usage: enter a word or press ctrl+d to finish for *nix or Ctrl-Z+Enter \n",
    "    for Windows.\n",
    "    Note: the user presses the enter key after entering each word.\n",
    "    \"\"\"\n",
    "    user_words_list = []\n",
    "    try:\n",
    "        while True:\n",
    "            user_word = input(\"Enter a word: \")\n",
    "            user_words_list.append(user_word)\n",
    "    except EOFError:\n",
    "        return user_words_list\n",
    "def get_words(text: str, letters: list[str]) -> list[str]:\n",
    "    \"\"\"\n",
    "    Checks the words with rules and returns a list of words.\n",
    "    \"\"\"\n",
    "    with open(text, 'r', encoding='UTF-8') as file:\n",
    "        data = [line.strip().lower() for line in file.readlines()[3:]]\n",
    "    \n",
    "    central_letter = letters[4]\n",
    "    list_of_words = []\n",
    "\n",
    "    for word in data:\n",
    "        if len(word) < 4:\n",
    "            continue\n",
    "\n",
    "        if central_letter not in word:\n",
    "            continue\n",
    "\n",
    "        letters_copy = letters.copy()\n",
    "        for letter in word:\n",
    "            if letter not in letters_copy:\n",
    "                break\n",
    "            letters_copy.remove(letter)\n",
    "        else:\n",
    "            list_of_words.append(word)\n",
    "\n",
    "    return list_of_words\n",
    "def get_pure_user_words(user_words: list[str], letters: list, words_from_dict: list[str]) -> list[str]:\n",
    "    \"\"\"\n",
    "    Checks user words with the rules and returns list of those words\n",
    "    that are not in dictionary.\n",
    "    \"\"\"\n",
    "    final_list = []\n",
    "    list_of_words = []\n",
    "    central_letter = letters[4]\n",
    "\n",
    "    for word in user_words:\n",
    "        if len(word) < 4:\n",
    "            continue\n",
    "\n",
    "        letters_copy = letters.copy()\n",
    "        counter_of_centre = 0\n",
    "        word_lower = word.lower()\n",
    "\n",
    "        for letter in word_lower:\n",
    "            if letter == central_letter:\n",
    "                counter_of_centre += 1\n",
    "            if letter not in letters_copy:\n",
    "                break\n",
    "            letters_copy.remove(letter)\n",
    "        else:\n",
    "            if counter_of_centre > 0:\n",
    "                list_of_words.append(word_lower)\n",
    "\n",
    "    for word in list_of_words:\n",
    "        if word not in words_from_dict:\n",
    "            final_list.append(word)\n",
    "\n",
    "    return final_list\n",
    "def number_right_words(user_words: list[str], words_from_dict: set[str]) -> int:\n",
    "    \"\"\"\n",
    "    Checks user words with the rules and returns number of right words.\n",
    "    \"\"\"\n",
    "    right_words = sum(user_word in words_from_dict for user_word in user_words)\n",
    "    return right_words\n",
    "def missed(user_words: list[str], words_from_dict: set[str]) -> list[str]:\n",
    "    \"\"\"\n",
    "    Checks user words with the rules and returns list of those words\n",
    "    that are not in the user's list.\n",
    "    \"\"\"\n",
    "    missed_words = list(words_from_dict - set(user_words))\n",
    "    return missed_words\n",
    "def main():\n",
    "    \"\"\"\n",
    "    Doing different functions to create a game.\n",
    "    \"\"\"\n",
    "    user_grid = generate_grid()\n",
    "    print(f'Your board is {user_grid}\\nPlease suggest your words here:')\n",
    "    user_words_list = get_user_words()\n",
    "    letters_list = list_of_letters(user_grid)\n",
    "    words_from_dict = set(get_words(EN, letters_list))\n",
    "    right_words_count = number_right_words(user_words_list, words_from_dict)\n",
    "    missed_words = missed(user_words_list, words_from_dict)\n",
    "    pure_user_words = get_pure_user_words(user_words_list, letters_list, words_from_dict)\n",
    "\n",
    "if __name__ == '__main__':\n",
    "    main()"
   ]
  },
  {
   "cell_type": "markdown",
   "metadata": {},
   "source": [
    "У цьому випадку тести на смс видали посилку пов'язану з пам'яттю."
   ]
  },
  {
   "attachments": {
    "image.png": {
     "image/png": "[encoded data removed]"
    }
   },
   "cell_type": "markdown",
   "metadata": {},
   "source": [
    "![image.png](attachment:image.png)"
   ]
  },
  {
   "cell_type": "markdown",
   "metadata": {},
   "source": [
    "Тоді я попросила ШІ замінити бібліотеку numpy. В результаті код мав наступний вигляд:"
   ]
  },
  {
   "cell_type": "code",
   "execution_count": null,
   "metadata": {},
   "outputs": [],
   "source": [
    "import string\n",
    "import random\n",
    "\n",
    "alphabet = list(string.ascii_uppercase)\n",
    "vowels = {'A', 'E', 'I', 'O', 'U', 'Y'}\n",
    "\n",
    "EN = r\"D:\\УКУ\\ОП\\1semester\\Lab6\\en.txt\"\n",
    "\n",
    "def three_letters() -> list[str]:\n",
    "    \"\"\"\n",
    "    Generates list of letters.\n",
    "    \"\"\"\n",
    "    return random.choices(alphabet, k=3)\n",
    "\n",
    "def generate_grid() -> list[list[str]]:\n",
    "    \"\"\"\n",
    "    Generates list of lists of letters - i.e. grid for the game.\n",
    "    \"\"\"\n",
    "    return [three_letters() for _ in range(3)]\n",
    "def list_of_letters(grid: list[list[str]]) -> list[str]:\n",
    "    \"\"\"\"\n",
    "    Make one list of letters from the list of lists of letters.\n",
    "    \"\"\"\n",
    "    return [letter.lower() for row in grid for letter in row]\n",
    "def get_user_words() -> list[str]:\n",
    "    \"\"\"\n",
    "    Gets words from user input and returns a list with these words.\n",
    "    Usage: enter a word or press ctrl+d to finish for *nix or Ctrl-Z+Enter \n",
    "    for Windows.\n",
    "    Note: the user presses the enter key after entering each word.\n",
    "    \"\"\"\n",
    "    user_words_list = []\n",
    "    try:\n",
    "        while True:\n",
    "            user_word = input(\"Enter a word: \")\n",
    "            user_words_list.append(user_word)\n",
    "    except EOFError:\n",
    "        return user_words_list\n",
    "def get_words(text: str, letters: list[str]) -> list[str]:\n",
    "    \"\"\"\n",
    "    Checks the words with rules and returns a list of words.\n",
    "    \"\"\"\n",
    "    with open(text, 'r', encoding='UTF-8') as file:\n",
    "        data = [line.strip().lower() for line in file.readlines()[3:]]\n",
    "    \n",
    "    central_letter = letters[4]\n",
    "    list_of_words = []\n",
    "\n",
    "    for word in data:\n",
    "        if len(word) < 4:\n",
    "            continue\n",
    "\n",
    "        if central_letter not in word:\n",
    "            continue\n",
    "\n",
    "        letters_copy = letters.copy()\n",
    "        for letter in word:\n",
    "            if letter not in letters_copy:\n",
    "                break\n",
    "            letters_copy.remove(letter)\n",
    "        else:\n",
    "            list_of_words.append(word)\n",
    "\n",
    "    return list_of_words\n",
    "def get_pure_user_words(user_words: list[str], letters: list, words_from_dict: list[str]) -> list[str]:\n",
    "    \"\"\"\n",
    "    Checks user words with the rules and returns list of those words\n",
    "    that are not in dictionary.\n",
    "    \"\"\"\n",
    "    final_list = []\n",
    "    list_of_words = []\n",
    "    central_letter = letters[4]\n",
    "\n",
    "    for word in user_words:\n",
    "        if len(word) < 4:\n",
    "            continue\n",
    "\n",
    "        letters_copy = letters.copy()\n",
    "        counter_of_centre = 0\n",
    "        word_lower = word.lower()\n",
    "\n",
    "        for letter in word_lower:\n",
    "            if letter == central_letter:\n",
    "                counter_of_centre += 1\n",
    "            if letter not in letters_copy:\n",
    "                break\n",
    "            letters_copy.remove(letter)\n",
    "        else:\n",
    "            if counter_of_centre > 0:\n",
    "                list_of_words.append(word_lower)\n",
    "\n",
    "    for word in list_of_words:\n",
    "        if word not in words_from_dict:\n",
    "            final_list.append(word)\n",
    "\n",
    "    return final_list\n",
    "def number_right_words(user_words: list[str], words_from_dict: set[str]) -> int:\n",
    "    \"\"\"\n",
    "    Checks user words with the rules and returns number of right words.\n",
    "    \"\"\"\n",
    "    right_words = sum(user_word in words_from_dict for user_word in user_words)\n",
    "    return right_words\n",
    "def missed(user_words: list[str], words_from_dict: set[str]) -> list[str]:\n",
    "    \"\"\"\n",
    "    Checks user words with the rules and returns list of those words\n",
    "    that are not in the user's list.\n",
    "    \"\"\"\n",
    "    missed_words = list(words_from_dict - set(user_words))\n",
    "    return missed_words\n",
    "def main():\n",
    "    \"\"\"\n",
    "    Doing different functions to create a game.\n",
    "    \"\"\"\n",
    "    user_grid = generate_grid()\n",
    "    print(f'Your board is {user_grid}\\nPlease suggest your words here:')\n",
    "    user_words_list = get_user_words()\n",
    "    letters_list = list_of_letters(user_grid)\n",
    "    words_from_dict = set(get_words(EN, letters_list))\n",
    "    right_words_count = number_right_words(user_words_list, words_from_dict)\n",
    "    missed_words = missed(user_words_list, words_from_dict)\n",
    "    pure_user_words = get_pure_user_words(user_words_list, letters_list, words_from_dict)\n",
    "\n",
    "if __name__ == '__main__':\n",
    "    main()"
   ]
  },
  {
   "cell_type": "markdown",
   "metadata": {},
   "source": [
    "Тести на смс пройшли, але, якщо порівнювати із ручним вводом, то в результаті у функції main() трохи змінилися виводи:"
   ]
  },
  {
   "attachments": {
    "image.png": {
     "image/png": "[encoded data removed]"
    }
   },
   "cell_type": "markdown",
   "metadata": {},
   "source": [
    "![image.png](attachment:image.png)"
   ]
  },
  {
   "cell_type": "markdown",
   "metadata": {},
   "source": [
    "Якщо ж порівнювати з пам'яттю, то її використання збільшилося:"
   ]
  },
  {
   "attachments": {
    "image.png": {
     "image/png": "[encoded data removed]"
    }
   },
   "cell_type": "markdown",
   "metadata": {},
   "source": [
    "![image.png](attachment:image.png)"
   ]
  },
  {
   "cell_type": "markdown",
   "metadata": {},
   "source": [
    "Час:"
   ]
  },
  {
   "attachments": {
    "image.png": {
     "image/png": "[encoded data removed]"
    }
   },
   "cell_type": "markdown",
   "metadata": {},
   "source": [
    "![image.png](attachment:image.png)"
   ]
  },
  {
   "cell_type": "markdown",
   "metadata": {},
   "source": [
    "Також постала проблема з pep8, тому можна попросити ШІ спробувати виправити це."
   ]
  },
  {
   "cell_type": "markdown",
   "metadata": {},
   "source": [
    "Спочатку я мала такі проблеми:"
   ]
  },
  {
   "attachments": {
    "image.png": {
     "image/png": "[encoded data removed]"
    }
   },
   "cell_type": "markdown",
   "metadata": {},
   "source": [
    "![image.png](attachment:image.png)"
   ]
  },
  {
   "cell_type": "markdown",
   "metadata": {},
   "source": [
    "Після оновленого коду:"
   ]
  },
  {
   "attachments": {
    "image.png": {
     "image/png": "[encoded data removed]"
    }
   },
   "cell_type": "markdown",
   "metadata": {},
   "source": [
    "![image.png](attachment:image.png)"
   ]
  },
  {
   "cell_type": "markdown",
   "metadata": {},
   "source": [
    "Як можна побачити ШІ виправив лише 1 проблему."
   ]
  },
  {
   "cell_type": "markdown",
   "metadata": {},
   "source": [
    "Коли ж я скинула йому ці проблеми і попросила виправити, він виправив ще 1 проблему, проте до кінця в нього виправити це не вийшло."
   ]
  },
  {
   "attachments": {
    "image.png": {
     "image/png": "[encoded data removed]"
    }
   },
   "cell_type": "markdown",
   "metadata": {},
   "source": [
    "![image.png](attachment:image.png)"
   ]
  },
  {
   "cell_type": "markdown",
   "metadata": {},
   "source": [
    "__ООП:__"
   ]
  },
  {
   "cell_type": "markdown",
   "metadata": {},
   "source": [
    "_Початковий код:_"
   ]
  },
  {
   "cell_type": "code",
   "execution_count": null,
   "metadata": {},
   "outputs": [],
   "source": [
    "import string\n",
    "import random\n",
    "\n",
    "class Word:\n",
    "    \"\"\"\n",
    "    Word class.\n",
    "    \"\"\"\n",
    "    def __init__(self, word:str) -> None:\n",
    "        self.word=word.lower().strip()\n",
    "\n",
    "    def is_valid(self, board:list)->bool:\n",
    "        \"\"\"\n",
    "        Check if word is valid.\n",
    "        \"\"\"\n",
    "        list_of_words=[]\n",
    "        letters_copy_cop=[]\n",
    "        letters_list=[]\n",
    "        if isinstance(board, list):\n",
    "            boardy=board\n",
    "        else:\n",
    "            boardy=board.grid\n",
    "        for element in boardy:\n",
    "            for letter in element:\n",
    "                letters_list.append(letter.lower())\n",
    "        central_letter=letters_list[4]\n",
    "        length_word=len(self.word)\n",
    "        counter_of_centre=0\n",
    "        if length_word<4:\n",
    "            return False\n",
    "        for i in range(length_word):\n",
    "            letter=self.word[i]\n",
    "            if letter==central_letter:\n",
    "                counter_of_centre+=1\n",
    "            if i==length_word-1:\n",
    "                if letter not in letters_list:\n",
    "                    return False\n",
    "                letters_copy_cop.append(letter)\n",
    "                letters_list.remove(letter)\n",
    "                if counter_of_centre>0:\n",
    "                    if self.word not in list_of_words:\n",
    "                        return True\n",
    "                return False\n",
    "            if letter not in letters_list:\n",
    "                return False\n",
    "            letters_copy_cop.append(letter)\n",
    "            letters_list.remove(letter)\n",
    "        return None\n",
    "\n",
    "    def __eq__(self, __value: object) -> bool:\n",
    "        return self.word == __value\n",
    "\n",
    "    def __repr__(self) -> str:\n",
    "        return self.word\n",
    "\n",
    "class Board:\n",
    "    \"\"\"\n",
    "    Board class.\n",
    "    \"\"\"\n",
    "    alphabet=list(string.ascii_uppercase)\n",
    "    vowels=['A', 'E', 'I', 'O', 'U']\n",
    "\n",
    "    def __init__(self, grid=None) -> None:\n",
    "        if grid is None:\n",
    "            self.grid=self.generate_grid()\n",
    "        else:\n",
    "            self.grid=grid\n",
    "\n",
    "    @classmethod\n",
    "    def generate_grid(cls)->list[list[str]]:\n",
    "        \"\"\"\n",
    "        Generates list of lists of letters - i.e. grid for the game.\n",
    "        e.g. [['I', 'G', 'E'], ['P', 'I', 'S'], ['W', 'M', 'G']]\n",
    "        \"\"\"\n",
    "        my_grid=[]\n",
    "        counter=0\n",
    "        vowels_counter=0\n",
    "        while counter<3:\n",
    "            letter_list=random.choices(cls.alphabet, k = 3)\n",
    "            my_grid.append(letter_list)\n",
    "            counter+=1\n",
    "        for element in my_grid:\n",
    "            for letter in element:\n",
    "                if letter in cls.vowels:\n",
    "                    vowels_counter+=1\n",
    "        if vowels_counter!=3:\n",
    "            return cls.generate_grid()\n",
    "        return my_grid\n",
    "\n",
    "    def get_words(self, filename:str)->list[Word]:\n",
    "        \"\"\"\n",
    "        Checks the words with rules and returns a list of words.\n",
    "        \"\"\"\n",
    "        with open(filename, 'r', encoding='UTF-8') as file:\n",
    "            data=file.readlines()\n",
    "            all_data=[line.strip('\\n') for line in data[3:]]\n",
    "            final_list=[]\n",
    "            word_board=self.grid\n",
    "            for line in all_data:\n",
    "                new_word=Word(line)\n",
    "                if new_word.is_valid(word_board):\n",
    "                    final_list.append(new_word)\n",
    "            return final_list\n",
    "\n",
    "    def __str__(self) -> str:\n",
    "        space='\\n'\n",
    "        my_board=self.grid\n",
    "        strin=''\n",
    "        for letts in my_board:\n",
    "            for lett in letts:\n",
    "                strin+=lett\n",
    "            strin+='\\n'\n",
    "        strin=strin.strip()\n",
    "        return f'Your board is:{space}{strin}'\n",
    "\n",
    "class TargetGame:\n",
    "    \"\"\"\n",
    "    Game class.\n",
    "    \"\"\"\n",
    "    def __init__(self, filename:str, board=None, user_words=None) -> None:\n",
    "        self.filename=filename\n",
    "        self.board=Board(board)\n",
    "        self.__possible_words=self.board.get_words(filename)\n",
    "        self.user_words=user_words\n",
    "\n",
    "    @property\n",
    "    def user_words(self)->list:\n",
    "        \"\"\"\n",
    "        Doc.\n",
    "        \"\"\"\n",
    "        return self.__user_words\n",
    "\n",
    "    @user_words.setter\n",
    "    def user_words(self, listok:list)->None:\n",
    "        another_listok=self.get_user_words(listok)\n",
    "        self.__user_words=another_listok\n",
    "\n",
    "    def get_user_words(self, listok:list)->list:\n",
    "        \"\"\"\n",
    "        Doc.\n",
    "        \"\"\"\n",
    "        if listok is not None:\n",
    "            new_listok=[]\n",
    "            for word in listok:\n",
    "                new_word=word.lower()\n",
    "                new_listok.append(Word(new_word))\n",
    "            return new_listok\n",
    "        user_words_listok=[]\n",
    "        print(self.board)\n",
    "        print('Please, suggest your words.\\nWhen you finished, hit: *nix: Ctrl-D, \\\n",
    "Windows: Ctrl-Z+Return')\n",
    "        while True:\n",
    "            try:\n",
    "                my_user_words=input()\n",
    "                user_words_listok.append(Word(my_user_words))\n",
    "            except EOFError:\n",
    "                return user_words_listok\n",
    "\n",
    "    @property\n",
    "    def correct_user_words(self)->list:\n",
    "        \"\"\"\n",
    "        Doc.\n",
    "        \"\"\"\n",
    "        return [my_word for my_word in self.__user_words for sec_word in self.__possible_words if\n",
    "                    my_word == sec_word]\n",
    "\n",
    "    def __str__(self) -> str:\n",
    "        space='\\n'\n",
    "        number=int(len(self.correct_user_words)*100/len(self.__possible_words))\n",
    "        return f\"---------Game results---------:{space}\\\n",
    "The list of your words is:{space}\\\n",
    "{self.user_words}{space}\\\n",
    "The list of your correct words:{space}\\\n",
    "{self.correct_user_words}{space}\\\n",
    "The number of possible words: {len(self.__possible_words)}{space}\\\n",
    "You guess {number}% of \\\n",
    "possible words.\""
   ]
  },
  {
   "cell_type": "markdown",
   "metadata": {},
   "source": [
    "Пам'ять:"
   ]
  },
  {
   "attachments": {
    "image.png": {
     "image/png": "[encoded data removed]"
    }
   },
   "cell_type": "markdown",
   "metadata": {},
   "source": [
    "![image.png](attachment:image.png)"
   ]
  },
  {
   "cell_type": "markdown",
   "metadata": {},
   "source": [
    "Час:"
   ]
  },
  {
   "attachments": {
    "image.png": {
     "image/png": "[encoded data removed]"
    }
   },
   "cell_type": "markdown",
   "metadata": {},
   "source": [
    "![image.png](attachment:image.png)"
   ]
  },
  {
   "cell_type": "markdown",
   "metadata": {},
   "source": [
    "Я попросила ШІ оптимізувати код:"
   ]
  },
  {
   "cell_type": "code",
   "execution_count": null,
   "metadata": {},
   "outputs": [],
   "source": [
    "import string\n",
    "import random\n",
    "\n",
    "class Word:\n",
    "    \"\"\"\n",
    "    Word class.\n",
    "    \"\"\"\n",
    "    def __init__(self, word: str) -> None:\n",
    "        self.word = word.lower().strip()\n",
    "\n",
    "    def is_valid(self, board: list) -> bool:\n",
    "        \"\"\"\n",
    "        Check if word is valid.\n",
    "        \"\"\"\n",
    "        letters_set = set(letter.lower() for row in board for letter in row)\n",
    "        central_letter = board[1][1].lower()\n",
    "        \n",
    "        if len(self.word) < 4 or central_letter not in self.word or self.word.count(central_letter) > 1:\n",
    "            return False\n",
    "        \n",
    "        for letter in self.word:\n",
    "            if letter not in letters_set:\n",
    "                return False\n",
    "            letters_set.remove(letter)\n",
    "        return True\n",
    "\n",
    "    def __eq__(self, other: object) -> bool:\n",
    "        return self.word == other\n",
    "\n",
    "    def __repr__(self) -> str:\n",
    "        return self.word\n",
    "\n",
    "class Board:\n",
    "    \"\"\"\n",
    "    Board class.\n",
    "    \"\"\"\n",
    "    alphabet = list(string.ascii_uppercase)\n",
    "    vowels = {'A', 'E', 'I', 'O', 'U'}\n",
    "\n",
    "    def __init__(self, grid=None) -> None:\n",
    "        self.grid = grid if grid is not None else self.generate_grid()\n",
    "\n",
    "    @classmethod\n",
    "    def generate_grid(cls) -> list:\n",
    "        \"\"\"\n",
    "        Generates list of lists of letters - i.e. grid for the game.\n",
    "        \"\"\"\n",
    "        while True:\n",
    "            grid = [random.choices(cls.alphabet, k=3) for _ in range(3)]\n",
    "            if sum(letter in cls.vowels for row in grid for letter in row) == 3:\n",
    "                return grid\n",
    "\n",
    "    def get_words(self, filename: str) -> list:\n",
    "        \"\"\"\n",
    "        Checks the words with rules and returns a list of words.\n",
    "        \"\"\"\n",
    "        with open(filename, 'r', encoding='UTF-8') as file:\n",
    "            words = [Word(line.strip()) for line in file.readlines()[3:]]\n",
    "        return [word for word in words if word.is_valid(self.grid)]\n",
    "\n",
    "    def __str__(self) -> str:\n",
    "        return '\\n'.join(''.join(row) for row in self.grid)\n",
    "\n",
    "class TargetGame:\n",
    "    \"\"\"\n",
    "    Game class.\n",
    "    \"\"\"\n",
    "    def __init__(self, filename: str, board=None, user_words=None) -> None:\n",
    "        self.filename = filename\n",
    "        self.board = Board(board)\n",
    "        self.possible_words = self.board.get_words(filename)\n",
    "        self.user_words = user_words if user_words is not None else self.get_user_words()\n",
    "\n",
    "    @staticmethod\n",
    "    def get_user_words() -> list:\n",
    "        \"\"\"\n",
    "        Prompt user for words.\n",
    "        \"\"\"\n",
    "        print(\"Please suggest your words. When you're finished, press Ctrl-D (Unix) or Ctrl-Z+Return (Windows).\")\n",
    "        user_words = []\n",
    "        while True:\n",
    "            try:\n",
    "                word = input().strip().lower()\n",
    "                user_words.append(Word(word))\n",
    "            except EOFError:\n",
    "                break\n",
    "        return user_words\n",
    "\n",
    "    @property\n",
    "    def correct_user_words(self) -> list:\n",
    "        \"\"\"\n",
    "        Get list of correct user words.\n",
    "        \"\"\"\n",
    "        return [word for word in self.user_words if word in self.possible_words]\n",
    "\n",
    "    def __str__(self) -> str:\n",
    "        percentage = len(self.correct_user_words) * 100 / len(self.possible_words)\n",
    "        return f\"--------- Game results ---------\\n\" \\\n",
    "               f\"The list of your words is:\\n{self.user_words}\\n\" \\\n",
    "               f\"The list of your correct words:\\n{self.correct_user_words}\\n\" \\\n",
    "               f\"The number of possible words: {len(self.possible_words)}\\n\" \\\n",
    "               f\"You guessed {percentage:.2f}% of possible words.\""
   ]
  },
  {
   "cell_type": "markdown",
   "metadata": {},
   "source": [
    "Після оптимізації ШІ код продить на 0,52/1."
   ]
  },
  {
   "cell_type": "markdown",
   "metadata": {},
   "source": [
    "Пам'ять:"
   ]
  },
  {
   "attachments": {
    "image.png": {
     "image/png": "[encoded data removed]"
    }
   },
   "cell_type": "markdown",
   "metadata": {},
   "source": [
    "![image.png](attachment:image.png)"
   ]
  },
  {
   "cell_type": "markdown",
   "metadata": {},
   "source": [
    "Час:"
   ]
  },
  {
   "attachments": {
    "image.png": {
     "image/png": "[encoded data removed]"
    }
   },
   "cell_type": "markdown",
   "metadata": {},
   "source": [
    "![image.png](attachment:image.png)"
   ]
  },
  {
   "cell_type": "markdown",
   "metadata": {},
   "source": [
    "__Висновки:__"
   ]
  },
  {
   "cell_type": "markdown",
   "metadata": {},
   "source": [
    "Обсяг:\n",
    "1. Чим більший обсяг, тим гірший результат. Код не просто не оптимізовується, але й ламається, починає видавати різного роду помилки.\n",
    "2. Але навіть, якщо розбити код на функції і попросити оптимізувати кожну з них: незважаючи на те, що код буде працювати, проте пам'ять, яку він використовує не зменшиться, а може навіть збільшитися. Так само з часом. \n",
    "3. Крім того, страждає й коректність коду щодо pep8. Якщо декілька разів попросити ШІ виправити це, то він зможе виправити, але лише декілька.\n",
    "4. Проте, якщо говорити про саму конструкцію, то код став читабельнішим, приємнішим."
   ]
  },
  {
   "cell_type": "markdown",
   "metadata": {},
   "source": [
    "Промпт:\n",
    "1. Просте \"Оптимізуй\" може тільки зламати код, якщо він дуже великий. З меншими кодами це може частковоспрацювати, але від оптимізації там буде лише вигляд.\n",
    "2. Якщо ж потрібно виправити стиль, то це обов'язково потрібно вказуати, бо ШІ не хоче зразу це прописувати. Проте навіть, якщо попросити його це виправити, він все одно не зможе виправити."
   ]
  },
  {
   "cell_type": "markdown",
   "metadata": {},
   "source": [
    "Оформлення коду:\n",
    "1. Частково може, щоб записати код в меншу кількість рядків.\n",
    "2. Якщо говорити про pep8, то він з цим справляється не дуже добре."
   ]
  }
 ],
 "metadata": {
  "kernelspec": {
   "display_name": "Python 3",
   "language": "python",
   "name": "python3"
  },
  "language_info": {
   "codemirror_mode": {
    "name": "ipython",
    "version": 3
   },
   "file_extension": ".py",
   "mimetype": "text/x-python",
   "name": "python",
   "nbconvert_exporter": "python",
   "pygments_lexer": "ipython3",
   "version": "3.11.5"
  }
 },
 "nbformat": 4,
 "nbformat_minor": 2
}
