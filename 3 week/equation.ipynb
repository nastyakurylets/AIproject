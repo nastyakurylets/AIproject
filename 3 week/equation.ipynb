{
 "cells": [
  {
   "cell_type": "markdown",
   "metadata": {},
   "source": [
    "__Equation__ https://cms.ucu.edu.ua/mod/vpl/view.php?id=344954&userid=9741"
   ]
  },
  {
   "cell_type": "code",
   "execution_count": null,
   "metadata": {},
   "outputs": [],
   "source": [
    "\"\"\"\n",
    "Equation.\n",
    "\"\"\"\n",
    "\n",
    "class Polynomial:\n",
    "    \"\"\"\n",
    "    Polynomial class.\n",
    "    \"\"\"\n",
    "    def __init__(self, coeffs:list) -> None:\n",
    "        if isinstance(coeffs, tuple):\n",
    "            coeffs=list(coeffs)\n",
    "        if len(coeffs)==0 or coeffs==[0]:\n",
    "            self.degree=0\n",
    "            self.coeffs=[0]\n",
    "        else:\n",
    "            coeffs_copy=coeffs.copy()\n",
    "            while coeffs_copy[0]==0:\n",
    "                coeffs_copy.pop(0)\n",
    "                if not coeffs_copy:\n",
    "                    coeffs_copy=[0]\n",
    "                    break\n",
    "            coeffs_copy=coeffs_copy[::-1]\n",
    "            self.coeffs=coeffs_copy\n",
    "            self.degree=len(self.coeffs)-1\n",
    "\n",
    "    @property\n",
    "    def derivative(self)->str:\n",
    "        \"\"\"\n",
    "        Derivative.\n",
    "        \"\"\"\n",
    "        self.coeffs=self.coeffs[::-1]\n",
    "        my_coeffs=self.coeffs[:-1]\n",
    "        self.coeffs=self.coeffs[::-1]\n",
    "        listok=[]\n",
    "        counter=len(my_coeffs)\n",
    "        for i in my_coeffs:\n",
    "            listok.append(i*counter)\n",
    "            counter-=1\n",
    "        return Polynomial(listok)\n",
    "\n",
    "    def eval_at(self, value:int)->int:\n",
    "        \"\"\"\n",
    "        Solves the equation according to the given x.\n",
    "        \"\"\"\n",
    "        result=0\n",
    "        for i in range(self.degree+1):\n",
    "            result+=self.coeffs[self.degree-i]*value**(self.degree-i)\n",
    "        return result\n",
    "\n",
    "    def multiply_by_value(self, value:int)->str:\n",
    "        \"\"\"\n",
    "        Multiply by value.\n",
    "        \"\"\"\n",
    "        new_coeffs=[i*value for i in self.coeffs]\n",
    "        new_coeffs=new_coeffs[::-1]\n",
    "        return Polynomial(new_coeffs)\n",
    "\n",
    "    def __eq__(self, other: object) -> bool:\n",
    "        if isinstance(other, Polynomial):\n",
    "            return self.coeffs==other.coeffs\n",
    "        if isinstance(other, int) and len(self.coeffs)==1:\n",
    "            return self.coeffs[0]==other\n",
    "        return False\n",
    "\n",
    "    def __hash__(self)->int:\n",
    "        return hash(f'{self.coeffs}')\n",
    "\n",
    "    def __add__(self, other:object)->str:\n",
    "        listok=[]\n",
    "        if len(self.coeffs)!=len(other.coeffs):\n",
    "            if len(self.coeffs)>len(other.coeffs):\n",
    "                while len(self.coeffs)!=len(other.coeffs):\n",
    "                    other.coeffs.append(0)\n",
    "            else:\n",
    "                while len(self.coeffs)!=len(other.coeffs):\n",
    "                    self.coeffs.append(0)\n",
    "        length=len(self.coeffs)\n",
    "        for i in range(length):\n",
    "            listok.append(self.coeffs[i]+other.coeffs[i])\n",
    "        listok=listok[::-1]\n",
    "        return Polynomial(listok)\n",
    "\n",
    "    def __mul__(self, other: object)->str:\n",
    "        new_degree = self.degree + other.degree\n",
    "        new_coeffs = [0] * (new_degree + 1)\n",
    "        for i in range(self.degree + 1):\n",
    "            for j in range(other.degree + 1):\n",
    "                new_coeffs[i + j] += self.coeffs[i] * other.coeffs[j]\n",
    "        return Polynomial(new_coeffs[::-1])\n",
    "\n",
    "    def __str__(self) -> str:\n",
    "        if self.coeffs==[0]:\n",
    "            return 'Polynomial: 0'\n",
    "        string=''\n",
    "        for i in range(self.degree+1):\n",
    "            if self.coeffs[self.degree-i]==0:\n",
    "                continue\n",
    "            string+=f'{self.coeffs[self.degree-i]}x**{self.degree-i}'\n",
    "            if self.degree-i-1>=0 and self.coeffs[self.degree-i-1]>0:\n",
    "                string+='+'\n",
    "        string=string.replace('x**0', '')\n",
    "        string=string.replace('x**1', 'x')\n",
    "        string=string.replace('1x', 'x')\n",
    "        return f'Polynomial: {string}'\n",
    "\n",
    "    def __repr__(self) -> str:\n",
    "        coef=self.coeffs\n",
    "        coef=coef[::-1]\n",
    "        return f'Polynomial(coeffs={coef})'\n",
    "\n",
    "\n",
    "class Quadratic(Polynomial):\n",
    "    \"\"\"\n",
    "    Quadratic class.\n",
    "    \"\"\"\n",
    "    def __init__(self, coeffs: list) -> None:\n",
    "        super().__init__(coeffs)\n",
    "        if len(self.coeffs)!=3:\n",
    "            raise ValueError('Quadratic polynomial must have exactly 3 coefficients')\n",
    "        self.coeffs=self.coeffs[::-1]\n",
    "        self.a=self.coeffs[0]\n",
    "        self.b=self.coeffs[1]\n",
    "        self.c=self.coeffs[2]\n",
    "        self.coeffs=self.coeffs[::-1]\n",
    "\n",
    "    @property\n",
    "    def discriminant(self)->int:\n",
    "        \"\"\"\n",
    "        Find discriminant.\n",
    "        \"\"\"\n",
    "        return self.b**2-4*self.a*self.c\n",
    "\n",
    "    @property\n",
    "    def number_of_real_roots(self)->int:\n",
    "        \"\"\"\n",
    "        Show number of real roots.\n",
    "        \"\"\"\n",
    "        if self.discriminant<0:\n",
    "            return 0\n",
    "        if self.discriminant==0:\n",
    "            return 1\n",
    "        return 2\n",
    "\n",
    "    def get_real_roots(self)->list:\n",
    "        \"\"\"\n",
    "        Get real roots.\n",
    "        \"\"\"\n",
    "        if self.number_of_real_roots==0:\n",
    "            return []\n",
    "        if self.number_of_real_roots==1:\n",
    "            root=-1*self.b/(2*self.a)\n",
    "            return [int(root)]\n",
    "        root1=(-1*self.b-self.discriminant**0.5)/(2*self.a)\n",
    "        root2=(-1*self.b+self.discriminant**0.5)/(2*self.a)\n",
    "        return [root1, root2]\n",
    "\n",
    "    def __repr__(self) -> str:\n",
    "        return f'Quadratic(a={self.a}, b={self.b}, c={self.c})'\n",
    "\n",
    "    def __str__(self) -> str:\n",
    "        text=super().__str__()\n",
    "        text=text.replace('Polynomial', 'Quadratic')\n",
    "        return text\n"
   ]
  },
  {
   "cell_type": "markdown",
   "metadata": {},
   "source": [
    "До цього коду я попросила ШІ написати юніттести."
   ]
  },
  {
   "cell_type": "markdown",
   "metadata": {},
   "source": [
    "Він не вказав, що потрібно було б імпортувати класи з іншого файлу, якщо це необхідно, тому довелося це дописати:"
   ]
  },
  {
   "cell_type": "code",
   "execution_count": null,
   "metadata": {},
   "outputs": [],
   "source": [
    "from e import Polynomial, Quadratic"
   ]
  },
  {
   "cell_type": "code",
   "execution_count": null,
   "metadata": {},
   "outputs": [],
   "source": [
    "import unittest\n",
    "\n",
    "class TestPolynomial(unittest.TestCase):\n",
    "\n",
    "    def test_init(self):\n",
    "        poly = Polynomial([1, 2, 3])\n",
    "        self.assertEqual(poly.coeffs, [1, 2, 3])\n",
    "        self.assertEqual(poly.degree, 2)\n",
    "\n",
    "    def test_derivative(self):\n",
    "        poly = Polynomial([1, 2, 3])\n",
    "        derivative = poly.derivative\n",
    "        self.assertEqual(derivative.coeffs, [2, 6])\n",
    "\n",
    "    def test_eval_at(self):\n",
    "        poly = Polynomial([1, 2, 3])\n",
    "        self.assertEqual(poly.eval_at(2), 17)\n",
    "\n",
    "    def test_multiply_by_value(self):\n",
    "        poly = Polynomial([1, 2, 3])\n",
    "        multiplied = poly.multiply_by_value(2)\n",
    "        self.assertEqual(multiplied.coeffs, [2, 4, 6])\n",
    "\n",
    "    def test_eq(self):\n",
    "        poly1 = Polynomial([1, 2, 3])\n",
    "        poly2 = Polynomial([1, 2, 3])\n",
    "        self.assertEqual(poly1, poly2)\n",
    "\n",
    "    def test_add(self):\n",
    "        poly1 = Polynomial([1, 2, 3])\n",
    "        poly2 = Polynomial([3, 2, 1])\n",
    "        added = poly1 + poly2\n",
    "        self.assertEqual(added.coeffs, [4, 4, 4])\n",
    "\n",
    "    def test_mul(self):\n",
    "        poly1 = Polynomial([1, 2, 3])\n",
    "        poly2 = Polynomial([3, 2, 1])\n",
    "        multiplied = poly1 * poly2\n",
    "        self.assertEqual(multiplied.coeffs, [3, 8, 14, 8, 3])\n",
    "\n",
    "    def test_repr(self):\n",
    "        poly = Polynomial([1, 2, 3])\n",
    "        self.assertEqual(repr(poly), \"Polynomial(coeffs=[3, 2, 1])\")\n",
    "\n",
    "class TestQuadratic(unittest.TestCase):\n",
    "\n",
    "    def test_init(self):\n",
    "        quad = Quadratic([1, 2, 3])\n",
    "        self.assertEqual(quad.coeffs, [1, 2, 3])\n",
    "        self.assertEqual(quad.a, 1)\n",
    "        self.assertEqual(quad.b, 2)\n",
    "        self.assertEqual(quad.c, 3)\n",
    "\n",
    "    def test_discriminant(self):\n",
    "        quad = Quadratic([1, 2, 1])  # (x + 1)^2\n",
    "        self.assertEqual(quad.discriminant, 0)\n",
    "\n",
    "    def test_number_of_real_roots(self):\n",
    "        quad = Quadratic([1, 2, 1])  # (x + 1)^2\n",
    "        self.assertEqual(quad.number_of_real_roots, 1)\n",
    "\n",
    "    def test_get_real_roots(self):\n",
    "        quad = Quadratic([1, -3, 2])  # x^2 - 3x + 2 = (x - 1)(x - 2)\n",
    "        self.assertEqual(quad.get_real_roots(), [1, 2])\n",
    "\n",
    "    def test_repr(self):\n",
    "        quad = Quadratic([1, 2, 3])\n",
    "        self.assertEqual(repr(quad), \"Quadratic(a=1, b=2, c=3)\")\n",
    "\n",
    "if __name__ == \"__main__\":\n",
    "    unittest.main()\n"
   ]
  },
  {
   "cell_type": "markdown",
   "metadata": {},
   "source": [
    "Якщо ж говорити про самі тести, то вони працювали неправильно, не так, як було задумано:"
   ]
  },
  {
   "attachments": {
    "image-2.png": {
     "image/png": "[encoded data removed]"
    },
    "image-3.png": {
     "image/png": "[encoded data removed]"
    },
    "image-4.png": {
     "image/png": "[encoded data removed]"
    },
    "image-5.png": {
     "image/png": "[encoded data removed]"
    },
    "image.png": {
     "image/png": "[encoded data removed]"
    }
   },
   "cell_type": "markdown",
   "metadata": {},
   "source": [
    "![image.png](attachment:image.png)\n",
    "![image-2.png](attachment:image-2.png)\n",
    "![image-3.png](attachment:image-3.png)\n",
    "![image-4.png](attachment:image-4.png)\n",
    "![image-5.png](attachment:image-5.png)"
   ]
  },
  {
   "cell_type": "markdown",
   "metadata": {},
   "source": [
    "Обчислення були правильними, проте логіка, якою користувався ШІ не підходила для даного коду."
   ]
  },
  {
   "cell_type": "markdown",
   "metadata": {},
   "source": [
    "Я вирішила дати ще й асерти, крім коду, щоб подивитися чи допоможе це ШІ."
   ]
  },
  {
   "cell_type": "markdown",
   "metadata": {},
   "source": [
    "ШІ змінив свої юніттести. Вони працювали. Проте ШІ не зміг знайти критичні точки, яких немає в асертах, проте є в коді в результаті чого не зміг повністю покрити тести."
   ]
  },
  {
   "attachments": {
    "image-2.png": {
     "image/png": "[encoded data removed]"
    },
    "image.png": {
     "image/png": "[encoded data removed]"
    }
   },
   "cell_type": "markdown",
   "metadata": {},
   "source": [
    "![image.png](attachment:image.png)\n",
    "![image-2.png](attachment:image-2.png)"
   ]
  },
  {
   "cell_type": "code",
   "execution_count": null,
   "metadata": {},
   "outputs": [],
   "source": [
    "import unittest\n",
    "import math\n",
    "\n",
    "class TestPolynomial(unittest.TestCase):\n",
    "\n",
    "    def test_init(self):\n",
    "        p1 = Polynomial([5])\n",
    "        self.assertEqual(p1.degree, 0)\n",
    "        self.assertEqual(p1.coeffs, [5])\n",
    "        self.assertEqual(str(p1), \"Polynomial: 5\")\n",
    "        self.assertEqual(repr(p1), 'Polynomial(coeffs=[5])')\n",
    "\n",
    "        p2 = Polynomial([3, 5])\n",
    "        self.assertEqual(p2.degree, 1)\n",
    "        self.assertEqual(p2.coeffs, [5, 3])\n",
    "        self.assertEqual(str(p2), \"Polynomial: 3x+5\")\n",
    "\n",
    "        p3 = Polynomial([1, 5])\n",
    "        self.assertEqual(str(p3), \"Polynomial: x+5\")\n",
    "\n",
    "        p4 = Polynomial([1, 2, 3])\n",
    "        self.assertEqual(p4.degree, 2)\n",
    "        self.assertEqual(p4.coeffs, [3, 2, 1])\n",
    "        self.assertEqual(str(p4), \"Polynomial: x**2+2x+3\")\n",
    "        self.assertEqual(repr(p4), \"Polynomial(coeffs=[1, 2, 3])\")\n",
    "\n",
    "        p5 = Polynomial([2, -3, 5])\n",
    "        self.assertEqual(str(p5), \"Polynomial: 2x**2-3x+5\")\n",
    "\n",
    "        p6 = Polynomial([2, 0, -5])\n",
    "        self.assertEqual(str(p6), \"Polynomial: 2x**2-5\")\n",
    "\n",
    "        p7 = Polynomial([2, 0, 0])\n",
    "        self.assertEqual(str(p7), \"Polynomial: 2x**2\")\n",
    "\n",
    "        p8 = Polynomial([-1, 0, 0])\n",
    "        self.assertEqual(str(p8), \"Polynomial: -x**2\")\n",
    "\n",
    "        p9 = Polynomial([0, 0, 0, 1, 2])\n",
    "        self.assertEqual(p9.degree, 1)\n",
    "        self.assertEqual(p9.coeffs, [2, 1])\n",
    "        self.assertEqual(str(p9), \"Polynomial: x+2\")\n",
    "\n",
    "    def test_eval_at(self):\n",
    "        p1 = Polynomial([5])\n",
    "        self.assertEqual(p1.eval_at(0), 5)\n",
    "        self.assertEqual(p1.eval_at(2), 5)\n",
    "\n",
    "        p2 = Polynomial([3, 5])\n",
    "        self.assertEqual(p2.eval_at(0), 5)\n",
    "        self.assertEqual(p2.eval_at(2), 11)\n",
    "\n",
    "    def test_equality(self):\n",
    "        p1 = Polynomial([1, 2, 3])\n",
    "        p2 = Polynomial([1, 2, 3])\n",
    "        self.assertEqual(p1, p2)\n",
    "\n",
    "        self.assertNotEqual(Polynomial([1, 2, 3]), Polynomial([1, 2, 3, 0]))\n",
    "        self.assertNotEqual(Polynomial([1, 2, 3]), Polynomial([1, 2, 0, 3]))\n",
    "        self.assertNotEqual(Polynomial([1, 2, 3]), Polynomial([1, -2, 3]))\n",
    "        self.assertNotEqual(Polynomial([1, 2, 3]), 42)\n",
    "        self.assertNotEqual(Polynomial([1, 2, 3]), \"Wahoo!\")\n",
    "\n",
    "        self.assertEqual(Polynomial([42]), 42)\n",
    "        self.assertEqual(Polynomial([0, 0, 0, 1, 2]), Polynomial([1, 2]))\n",
    "\n",
    "        coeffs = [0, 0, 0, 1, 2]\n",
    "        Polynomial(coeffs)\n",
    "        self.assertEqual(coeffs, [0, 0, 0, 1, 2])\n",
    "\n",
    "        coeffs = (0, 0, 0, 1, 2)\n",
    "        Polynomial(coeffs)\n",
    "        self.assertEqual(coeffs, (0, 0, 0, 1, 2))\n",
    "\n",
    "    def test_multiply_by_value(self):\n",
    "        p4 = Polynomial([1, 2, 3])\n",
    "        p10 = p4.multiply_by_value(10)\n",
    "        self.assertIsInstance(p10, Polynomial)\n",
    "        self.assertEqual(str(p10), 'Polynomial: 10x**2+20x+30')\n",
    "        self.assertEqual(str(p4), 'Polynomial: x**2+2x+3')\n",
    "\n",
    "    def test_derivative(self):\n",
    "        p4 = Polynomial([1, 2, 3])\n",
    "        p11 = p4.derivative\n",
    "        self.assertIsInstance(p11, Polynomial)\n",
    "        self.assertEqual(str(p11), \"Polynomial: 2x+2\")\n",
    "\n",
    "    def test_add(self):\n",
    "        p5 = Polynomial([2, -3, 5])\n",
    "        p8 = Polynomial([-1, 0, 0])\n",
    "        p12 = p5 + p8\n",
    "        self.assertIsInstance(p12, Polynomial)\n",
    "        self.assertEqual(str(p12), \"Polynomial: x**2-3x+5\")\n",
    "        self.assertEqual(str(p5), \"Polynomial: 2x**2-3x+5\")\n",
    "\n",
    "    def test_multiply(self):\n",
    "        p5 = Polynomial([2, -3, 5])\n",
    "        p8 = Polynomial([-1, 0, 0])\n",
    "        p13 = p5 * p8\n",
    "        self.assertIsInstance(p13, Polynomial)\n",
    "        self.assertEqual(str(p13), \"Polynomial: -2x**4+3x**3-5x**2\")\n",
    "\n",
    "\n",
    "class TestQuadratic(unittest.TestCase):\n",
    "\n",
    "    def test_init(self):\n",
    "        q1 = Quadratic([3, 2, 1])  # 3x^2 + 2x + 1\n",
    "        self.assertIsInstance(q1, Quadratic)\n",
    "        self.assertIsInstance(q1, Polynomial)\n",
    "        self.assertEqual(q1.eval_at(10), 321)\n",
    "        self.assertEqual(q1.a, 3)\n",
    "        self.assertEqual(q1.b, 2)\n",
    "        self.assertEqual(q1.c, 1)\n",
    "        self.assertEqual(repr(q1), \"Quadratic(a=3, b=2, c=1)\")\n",
    "        self.assertEqual(str(q1), \"Quadratic: 3x**2+2x+1\")\n",
    "\n",
    "    def test_discriminant(self):\n",
    "        q1 = Quadratic([3, 2, 1])\n",
    "        self.assertEqual(q1.discriminant, -8)\n",
    "\n",
    "    def test_number_of_real_roots(self):\n",
    "        q1 = Quadratic([3, 2, 1])\n",
    "        self.assertEqual(q1.number_of_real_roots, 0)\n",
    "        q2 = Quadratic([1, -6, 9])\n",
    "        self.assertEqual(q2.number_of_real_roots, 1)\n",
    "        q3 = Quadratic([1, 1, -6])\n",
    "        self.assertEqual(q3.number_of_real_roots, 2)\n",
    "\n",
    "    def test_get_real_roots(self):\n",
    "        q2 = Quadratic([1, -6, 9])\n",
    "        self.assertEqual(q2.get_real_roots(), [3])\n",
    "        q3 = Quadratic([1, 1, -6])\n",
    "        roots = q3.get_real_roots()\n",
    "        self.assertAlmostEqual(roots[0], -3)\n",
    "        self.assertAlmostEqual(roots[1], 2)\n",
    "\n",
    "    def test_invalid_quadratic(self):\n",
    "        with self.assertRaises(ValueError) as context:\n",
    "            Quadratic([1, 2, 3, 4])\n",
    "        self.assertEqual(str(context.exception), 'Quadratic polynomial must have exactly 3 coefficients')\n",
    "\n",
    "\n",
    "if __name__ == \"__main__\":\n",
    "    unittest.main()\n"
   ]
  },
  {
   "cell_type": "markdown",
   "metadata": {},
   "source": [
    "Після вказівки на це, ШІ так і не виправив тести."
   ]
  },
  {
   "cell_type": "markdown",
   "metadata": {},
   "source": [
    "Потім я попросила його надати звіт по неохопленим частинам коду і він надав правильний звіт."
   ]
  },
  {
   "cell_type": "markdown",
   "metadata": {},
   "source": [
    "Потім я попросила доробити юніттести, щоб вони охопили їх, проте вони не були вдалими, виникала помилка."
   ]
  },
  {
   "attachments": {
    "image.png": {
     "image/png": "[encoded data removed]"
    }
   },
   "cell_type": "markdown",
   "metadata": {},
   "source": [
    "![image.png](attachment:image.png)"
   ]
  },
  {
   "cell_type": "markdown",
   "metadata": {},
   "source": [
    "Юніттести, які додав ШІ:"
   ]
  },
  {
   "cell_type": "code",
   "execution_count": null,
   "metadata": {},
   "outputs": [],
   "source": [
    "# Рядки 13-14, 20-21\n",
    "def test_init_empty_list(self):\n",
    "    p_empty = Polynomial([])\n",
    "    self.assertEqual(p_empty.degree, 0)\n",
    "    self.assertEqual(p_empty.coeffs, [0])\n",
    "    self.assertEqual(str(p_empty), \"Polynomial: 0\")\n",
    "    self.assertEqual(repr(p_empty), 'Polynomial(coeffs=[0])')\n",
    "\n",
    "def test_init_single_zero_coeff(self):\n",
    "    p_zero = Polynomial([0])\n",
    "    self.assertEqual(p_zero.degree, 0)\n",
    "    self.assertEqual(p_zero.coeffs, [0])\n",
    "    self.assertEqual(str(p_zero), \"Polynomial: 0\")\n",
    "    self.assertEqual(repr(p_zero), 'Polynomial(coeffs=[0])')\n",
    "\n",
    "# Рядок 66\n",
    "def test_init_negative_coeff(self):\n",
    "    p_negative = Polynomial([-1, 2, 3])\n",
    "    self.assertEqual(p_negative.degree, 2)\n",
    "    self.assertEqual(p_negative.coeffs, [3, 2, -1])\n",
    "    self.assertEqual(str(p_negative), \"Polynomial: -x**2+2x+3\")\n",
    "    self.assertEqual(repr(p_negative), 'Polynomial(coeffs=[-1, 2, 3])')\n",
    "\n",
    "# Рядки 71-76, 93\n",
    "def test_eval_at_with_negative_value(self):\n",
    "    p = Polynomial([1, 2, 3])\n",
    "    self.assertEqual(p.eval_at(-2), 5)\n",
    "\n",
    "# Рядок 149\n",
    "def test_multiply_by_value_with_zero_value(self):\n",
    "    p = Polynomial([1, 2, 3])\n",
    "    p_zero = p.multiply_by_value(0)\n",
    "    self.assertIsInstance(p_zero, Polynomial)\n",
    "    self.assertEqual(str(p_zero), 'Polynomial: 0')"
   ]
  },
  {
   "cell_type": "markdown",
   "metadata": {},
   "source": [
    "Я закоментувала цю частинку коду й інші тести пройшли."
   ]
  },
  {
   "attachments": {
    "image.png": {
     "image/png": "[encoded data removed]"
    }
   },
   "cell_type": "markdown",
   "metadata": {},
   "source": [
    "![image.png](attachment:image.png)"
   ]
  },
  {
   "cell_type": "markdown",
   "metadata": {},
   "source": [
    "Потім я вирішила оптимізувати ці тести."
   ]
  },
  {
   "cell_type": "markdown",
   "metadata": {},
   "source": [
    "До оптимізації:"
   ]
  },
  {
   "attachments": {
    "image.png": {
     "image/png": "[encoded data removed]"
    }
   },
   "cell_type": "markdown",
   "metadata": {},
   "source": [
    "![image.png](attachment:image.png)"
   ]
  },
  {
   "cell_type": "markdown",
   "metadata": {},
   "source": [
    "Після оптимізації з'явилися помилки і час збільшився:"
   ]
  },
  {
   "attachments": {
    "image-3.png": {
     "image/png": "[encoded data removed]"
    }
   },
   "cell_type": "markdown",
   "metadata": {},
   "source": [
    "![image-3.png](attachment:image-3.png)"
   ]
  },
  {
   "attachments": {
    "image-2.png": {
     "image/png": "[encoded data removed]"
    },
    "image.png": {
     "image/png": "[encoded data removed]"
    }
   },
   "cell_type": "markdown",
   "metadata": {},
   "source": [
    "![image.png](attachment:image.png) ![image-2.png](attachment:image-2.png) і т.д."
   ]
  },
  {
   "cell_type": "markdown",
   "metadata": {},
   "source": [
    "__Висновки:__"
   ]
  },
  {
   "cell_type": "markdown",
   "metadata": {},
   "source": [
    "1. Загалом ШІ може створити шаблон тестів, проте їх буде мало, вони не покриють весь код. Крім ШІ не може визначити критичних точок. Якщо йому надати код, то він може створити неправильні по логіці юніттести. Якщо ж надати асерти, він просто перетворить їх в юніттести, проте це не допоможе виявити критичні точки.\n",
    "2. Крім того, ШІ не може допомогти з неохопленими частинами коду. Якщо йому звернути на це увагу, він все одно їх не покриє. Таким чином він не може й виправити помилки, які виникають в самому коді.\n",
    "3. Проте, якщо попросити звіт про непокриті частини він його надасть і цей звіт буде правильним. Проте покрити частини коду вказані в своєму ж звіті він зможе лише частково.\n",
    "4. З оптимізацією тестів ШІ допомогти не може, тільки ламає код і час виконання тільки збільшується."
   ]
  }
 ],
 "metadata": {
  "language_info": {
   "name": "python"
  }
 },
 "nbformat": 4,
 "nbformat_minor": 2
}
