{
 "cells": [
  {
   "cell_type": "markdown",
   "metadata": {},
   "source": [
    "# Процедурне програмування:\n"
   ]
  },
  {
   "cell_type": "markdown",
   "metadata": {},
   "source": [
    "https://www.codewars.com/kata/53dc54212259ed3d4f00071c/train/python"
   ]
  },
  {
   "cell_type": "markdown",
   "metadata": {},
   "source": [
    "### Власний розв’язок:"
   ]
  },
  {
   "cell_type": "code",
   "execution_count": 1,
   "metadata": {},
   "outputs": [],
   "source": [
    "def sum_array(a):\n",
    "    return sum(a)"
   ]
  },
  {
   "cell_type": "markdown",
   "metadata": {},
   "source": [
    "![alt text](<2024-04-09 (18).png>)"
   ]
  },
  {
   "cell_type": "markdown",
   "metadata": {},
   "source": [
    "### ChatGPT за умови короткого формулювання запиту українською мовою або англійською мовою:"
   ]
  },
  {
   "cell_type": "markdown",
   "metadata": {},
   "source": [
    "Формулювання українською: “Напиши код для додавання всіх елементів списку”\n",
    "\n"
   ]
  },
  {
   "cell_type": "code",
   "execution_count": 2,
   "metadata": {},
   "outputs": [
    {
     "name": "stdout",
     "output_type": "stream",
     "text": [
      "Сума елементів у списку: 15\n"
     ]
    }
   ],
   "source": [
    "# Створюємо список\n",
    "my_list = [1, 2, 3, 4, 5]\n",
    "\n",
    "# Ініціалізуємо змінну для зберігання суми\n",
    "total = 0\n",
    "\n",
    "# Проходимо по кожному клкмкнту у списку і додаємо його до суми\n",
    "for num in my_list:\n",
    "    total += num\n",
    "\n",
    "# Виводимо суму\n",
    "print(\"Сума елементів у списку:\", total)"
   ]
  },
  {
   "cell_type": "markdown",
   "metadata": {},
   "source": [
    "![alt text](<2024-04-09 (20).png>)"
   ]
  },
  {
   "cell_type": "markdown",
   "metadata": {},
   "source": [
    "Формулювання англійською: “Write code for adding all objects from list”"
   ]
  },
  {
   "cell_type": "code",
   "execution_count": 3,
   "metadata": {},
   "outputs": [
    {
     "name": "stdout",
     "output_type": "stream",
     "text": [
      "Sum of all objects in the list: 15\n"
     ]
    }
   ],
   "source": [
    "# Define a list containing objects\n",
    "objects_list = [1, 2, 3, 4, 5]\n",
    "\n",
    "# Initialize a variable to store the sum\n",
    "total_sum = 0\n",
    "\n",
    "# Iterate through each object in the list and add it to the total sum\n",
    "for obj in objects_list:\n",
    "    total_sum += obj\n",
    "\n",
    "# Print sum\n",
    "print(\"Sum of all objects in the list:\", total_sum)"
   ]
  },
  {
   "cell_type": "markdown",
   "metadata": {},
   "source": [
    "![alt text](<2024-04-09 (22).png>)"
   ]
  },
  {
   "cell_type": "markdown",
   "metadata": {},
   "source": [
    "### Висновок:"
   ]
  },
  {
   "cell_type": "markdown",
   "metadata": {},
   "source": [
    "Як ми можемо побачити ChatGPT згенерував однаковий код, для обох випадків, однак просто скопіювати цей код та вставити в Codewars буде безрезультатно. Проте, якщо використати саме частину де описується алгоритм та трохи поправити її, тоді цей ком має шанс на існування."
   ]
  },
  {
   "cell_type": "markdown",
   "metadata": {},
   "source": [
    "![alt text](<2024-04-09 (23).png>)"
   ]
  },
  {
   "cell_type": "markdown",
   "metadata": {},
   "source": [
    "### ChatGPT за умови цілісного та конкретного запиту(саме умова задачі) українською та англійською мовою:"
   ]
  },
  {
   "cell_type": "markdown",
   "metadata": {},
   "source": [
    "- Формулювання українською:\n",
    "    \n",
    "    Напишіть функцію, яка приймає масив чисел і повертає суму чисел. Числа можуть бути від’ємними або нецілими. Якщо масив не містить жодних чисел, ви повинні повернути 0.\n",
    "    \n",
    "    Приклади\n",
    "    Введення- [1, 5.2, 4, 0, -1]\n",
    "    виведення:9.2\n",
    "    \n",
    "    Введення- []\n",
    "    виведення:0\n",
    "    \n",
    "    Введення- [-2.398]\n",
    "    виведення:-2.398\n",
    "    \n",
    "    Припущення\n",
    "    Ви можете вважати, що вам дані лише числа.\n",
    "    Ви не можете припустити розмір масиву.\n",
    "    Ви можете припустити, що ви отримали масив, і якщо масив порожній, поверніть 0.\n",
    "    Що ми тестуємо\n",
    "    Ми перевіряємо основні цикли та математичні операції. Це для початківців, які тільки вивчають цикли та математичні операції.\n",
    "    Досвідчені користувачі можуть вважати це надзвичайно простим і можуть легко написати це одним рядком.”"
   ]
  },
  {
   "cell_type": "code",
   "execution_count": 4,
   "metadata": {},
   "outputs": [
    {
     "name": "stdout",
     "output_type": "stream",
     "text": [
      "9.2\n",
      "0\n",
      "-2.398\n"
     ]
    }
   ],
   "source": [
    "def sum_of_numbers(nums):\n",
    "    # Ініціалізуємо змінну для зберігання суми\n",
    "    total_sum = 0\n",
    "\n",
    "    # Якщо масив порожній, повертаємо 0\n",
    "    if not nums:\n",
    "        return 0\n",
    "    \n",
    "    # Додаємо кожне число з масиву до суми\n",
    "    for num in nums:\n",
    "        total_sum += num\n",
    "    \n",
    "    # Повертаємо суму\n",
    "    return total_sum\n",
    "\n",
    "# Приклади використання функції\n",
    "print(sum_of_numbers([1, 5.2, 4, 0, -1]))  #Виведе: 9.2\n",
    "print(sum_of_numbers([]))  #Виведе: 0\n",
    "print(sum_of_numbers([-2.398]))  #Виведе: -2.398\n"
   ]
  },
  {
   "cell_type": "markdown",
   "metadata": {},
   "source": [
    "![alt text](<2024-04-09 (25).png>)"
   ]
  },
  {
   "cell_type": "markdown",
   "metadata": {},
   "source": [
    "- Формулювання англійською\n",
    "    \n",
    "    Write a function that takes an array of numbers and returns the sum of the numbers. The numbers can be negative or non-integer. If the array does not contain any numbers then you should return 0.\n",
    "    \n",
    "    ### **Examples**\n",
    "    \n",
    "    Input: `[1, 5.2, 4, 0, -1]`\n",
    "    \n",
    "    Output: `9.2`\n",
    "    \n",
    "    Input: `[]`\n",
    "    \n",
    "    Output: `0`\n",
    "    \n",
    "    Input: `[-2.398]`\n",
    "    \n",
    "    Output: `-2.398`\n",
    "    \n",
    "    ### **Assumptions**\n",
    "    \n",
    "    - You can assume that you are only given numbers.\n",
    "    - You cannot assume the size of the array.\n",
    "    - You can assume that you do get an array and if the array is empty, return 0.\n",
    "    \n",
    "    ### **What We're Testing**\n",
    "    \n",
    "    We're testing basic loops and math operations. This is for beginners who are just learning loops and math operations.\n",
    "    \n",
    "    Advanced users may find this extremely easy and can easily write this in one line."
   ]
  },
  {
   "cell_type": "code",
   "execution_count": 5,
   "metadata": {},
   "outputs": [
    {
     "name": "stdout",
     "output_type": "stream",
     "text": [
      "9.2\n",
      "0\n",
      "-2.398\n"
     ]
    }
   ],
   "source": [
    "def sum_of_numbers(numbers):\n",
    "    # Initialize a variable to store the sum\n",
    "    total_sum = 0\n",
    "\n",
    "    # Check if the array is empty\n",
    "    if not numbers:\n",
    "        return 0\n",
    "    \n",
    "    # Iterate through each number in array and add it to the sum\n",
    "    for num in numbers:\n",
    "        total_sum += num\n",
    "   \n",
    "    return total_sum\n",
    "\n",
    "# Examples of using the function\n",
    "print(sum_of_numbers([1, 5.2, 4, 0, -1]))  # Output: 9.2\n",
    "print(sum_of_numbers([]))  # Output: 0\n",
    "print(sum_of_numbers([-2.398]))  # Output: -2.398\n"
   ]
  },
  {
   "cell_type": "markdown",
   "metadata": {},
   "source": [
    "![alt text](<2024-04-09 (28).png>)"
   ]
  },
  {
   "cell_type": "markdown",
   "metadata": {},
   "source": [
    "### Висновок: "
   ]
  },
  {
   "cell_type": "markdown",
   "metadata": {},
   "source": [
    "Як бачимо результати не змінилися, без особистого втручання, ми не зможемо реалізувати функцію просто з допомогою ШІ, без конкретних уточнень щодо самої функції та тестів."
   ]
  },
  {
   "cell_type": "markdown",
   "metadata": {},
   "source": [
    "![alt text](<2024-04-09 (29).png>)"
   ]
  },
  {
   "cell_type": "markdown",
   "metadata": {},
   "source": [
    "### ChatGPT за умови точного формулювання завдання, з наданням умовного скелету функції та тестів:"
   ]
  },
  {
   "cell_type": "markdown",
   "metadata": {},
   "source": [
    "- Промт:\n",
    "    \n",
    "    Write a function that takes an array of numbers and returns the sum of the numbers. The numbers can be negative or non-integer. If the array does not contain any numbers then you should return 0.\n",
    "    \n",
    "    Examples\n",
    "    Input: [1, 5.2, 4, 0, -1]\n",
    "    Output: 9.2\n",
    "    \n",
    "    Input: []\n",
    "    Output: 0\n",
    "    \n",
    "    Input: [-2.398]\n",
    "    Output: -2.398\n",
    "    \n",
    "    Assumptions\n",
    "    You can assume that you are only given numbers.\n",
    "    You cannot assume the size of the array.\n",
    "    You can assume that you do get an array and if the array is empty, return 0.\n",
    "    What We're Testing\n",
    "    We're testing basic loops and math operations. This is for beginners who are just learning loops and math operations.\n",
    "    Advanced users may find this extremely easy and can easily write this in one line.\n",
    "    \n",
    "    def sum_array(a):\n",
    "    pass\n",
    "    \n",
    "    import codewars_test as test\n",
    "    from solution import sum_array\n",
    "    \n",
    "    @test.describe(\"Testing sum array\")\n",
    "    def tests():\n",
    "    @test.it(\"Fixed tests\")\n",
    "    def fixed_tests():\n",
    "    test.assert_equals(sum_array([]), 0)\n",
    "    test.assert_equals(sum_array([1, 2, 3]), 6)\n",
    "    test.assert_equals(sum_array([1.1, 2.2, 3.3]), 6.6)\n",
    "    test.assert_equals(sum_array([4, 5, 6]), 15)\n",
    "    test.assert_equals(sum_array(range(101)), 5050)"
   ]
  },
  {
   "cell_type": "code",
   "execution_count": 6,
   "metadata": {},
   "outputs": [],
   "source": [
    "def sum_array(a):\n",
    "    total_sum = 0\n",
    "    for num in a:\n",
    "        total_sum += num\n",
    "    return total_sum"
   ]
  },
  {
   "cell_type": "markdown",
   "metadata": {},
   "source": [
    "![alt text](2024-04-10.png)"
   ]
  },
  {
   "cell_type": "markdown",
   "metadata": {},
   "source": [
    "### Висновок: "
   ]
  },
  {
   "cell_type": "markdown",
   "metadata": {},
   "source": [
    "Як бачимо ChatGPT впорався з завданням найлегшого рівня на Codewars добре, проте щоб досягти такого результату, ми повинні були пройти низку невдач. Тож щоб ШІ зміг добре виконати завдання, потрібно йому надати повну умову з тестами та тілом самої функції. "
   ]
  },
  {
   "cell_type": "markdown",
   "metadata": {},
   "source": [
    "Отже, ШІ такий як ChatGPT може з легкістю впоратися з завданнями найлегшого рівня з парадигми процедурного(функційного) програмування тільки за умови повноцінного формулювання промту з наданням всієї інформації, що стосується реалізації функцій обраного завдання."
   ]
  },
  {
   "cell_type": "markdown",
   "metadata": {},
   "source": [
    "# Об’єктно-орієнтоване програмування:"
   ]
  },
  {
   "cell_type": "markdown",
   "metadata": {},
   "source": [
    "https://www.codewars.com/kata/54fe05c4762e2e3047000add/train/python"
   ]
  },
  {
   "cell_type": "markdown",
   "metadata": {},
   "source": [
    "### Власний розв’язок:"
   ]
  },
  {
   "cell_type": "code",
   "execution_count": null,
   "metadata": {},
   "outputs": [],
   "source": [
    "class Ship:\n",
    "    def __init__(self, draft, crew) -> None:\n",
    "        self.draft = draft\n",
    "        self.crew = crew\n",
    "\n",
    "    def is_worth_it(self):\n",
    "        return True if self.draft - 1.5 * self.crew > 20 else False"
   ]
  },
  {
   "cell_type": "markdown",
   "metadata": {},
   "source": [
    "### ChatGPT за умови короткого формулювання:"
   ]
  },
  {
   "cell_type": "markdown",
   "metadata": {},
   "source": [
    "- Формулювання:\n",
    "    \n",
    "    Напиши код для задачі ооп про піратів з реалізацією класу ship та атрибутами crew i draft"
   ]
  },
  {
   "cell_type": "code",
   "execution_count": null,
   "metadata": {},
   "outputs": [],
   "source": [
    "class Ship:\n",
    "    def __init__(self, draft, crew):\n",
    "        self.draft = draft\n",
    "        self.crew = crew\n",
    "\n",
    "    def is_worth_it(self):\n",
    "        return self.draft - 1.5 * self.crew > 20\n",
    "    \n",
    "\n",
    "    #  Приклад використання класу Ship\n",
    "    if __name__ == \"__main__\":\n",
    "        pirate_ship = Ship(20, 10)\n",
    "        print('Is the pirate ship worth it?', pirate_ship.is_worth_it())"
   ]
  },
  {
   "cell_type": "markdown",
   "metadata": {},
   "source": [
    "![alt text](<2024-04-12 (3).png>)"
   ]
  },
  {
   "cell_type": "markdown",
   "metadata": {},
   "source": [
    "### Висновок:\n",
    "\n",
    "Як бачимо chatGPT впорався досить непогано і якщо виправити кілька моментів, то результат буде успішним"
   ]
  },
  {
   "cell_type": "markdown",
   "metadata": {},
   "source": [
    "### ChatGPT за умови цілісного формулювання(умова задачі):\n",
    "\n",
    "- Формулювання:\n",
    "    \n",
    "    Ahoy matey!\n",
    "    \n",
    "    You are a leader of a small pirate crew. And you have a plan. With the help of OOP you wish to make a pretty efficient system to identify ships with heavy booty on board!\n",
    "    \n",
    "    Unfortunately for you, people weigh a lot these days, so how do you know if a ship is full of gold and not people?\n",
    "    \n",
    "    You begin with writing a generic Ship class / struct:\n",
    "    \n",
    "    ```python\n",
    "    class Ship:\n",
    "        def __init__(self, draft, crew):\n",
    "            self.draft = draft\n",
    "            self.crew = crew\n",
    "    \n",
    "    ```\n",
    "    \n",
    "    Every time your spies see a new ship enter the dock, they will create a new ship object based on their observations:\n",
    "    \n",
    "    - draft - an estimate of the ship's weight based on how low it is in the water\n",
    "    - crew - the count of crew on board\n",
    "    \n",
    "    ```python\n",
    "    Titanic = Ship(15, 10)\n",
    "    \n",
    "    ```\n",
    "    \n",
    "    **Task**\n",
    "    \n",
    "    You have access to the ship \"draft\" and \"crew\". \"Draft\" is the total ship weight and \"crew\" is the number of humans on the ship.\n",
    "    \n",
    "    Each crew member adds `1.5` units to the ship draft. If after removing the weight of the crew, the draft is still more than `20`, then the ship is worth looting. Any ship weighing that much must have a lot of booty!\n",
    "    \n",
    "    Add the method\n",
    "    \n",
    "    ```python\n",
    "    is_worth_it\n",
    "    \n",
    "    ```\n",
    "    \n",
    "    to decide if the ship is worthy to loot. For example:\n",
    "    \n",
    "    ```python\n",
    "    Titanic.is_worth_it()\n",
    "    False\n",
    "    \n",
    "    ```\n",
    "    \n",
    "    Good luck and may you find GOOOLD!"
   ]
  },
  {
   "cell_type": "code",
   "execution_count": null,
   "metadata": {},
   "outputs": [],
   "source": [
    "class Ship:\n",
    "    def __init__(self, draft, crew):\n",
    "        self.draft = draft\n",
    "        self.crew = crew\n",
    "\n",
    "    def is_worth_it(self):\n",
    "        return (self.draft - 1.5 * self.crew) > 20\n",
    "    \n",
    "\n",
    "    # Example usage\n",
    "    Titanic = Ship(15, 10)\n",
    "    print(Titanic.is_worth_it()) #Output: False"
   ]
  },
  {
   "cell_type": "markdown",
   "metadata": {},
   "source": [
    "![alt text](<2024-04-12 (4).png>)"
   ]
  },
  {
   "cell_type": "markdown",
   "metadata": {},
   "source": [
    "#### Висновок:\n",
    "\n",
    "ШІ успішно виконав завдання навіть без внесення правок."
   ]
  },
  {
   "cell_type": "markdown",
   "metadata": {},
   "source": [
    "## Висновок:\n",
    "\n",
    "З задачею об’єктно-орієнтованої парадигми програмування найлегшого рівня на Codewars ChatGPT впорався частково успішно, навіть попри короткий промт, а з наданою цілісною умовою задачі ШІ впорався на відмінно, проте варто зазначити, що  кожного разу ChatGPT видає в кінці свої приклади, які в певній мірі можуть повпливати на результат завдання."
   ]
  }
 ],
 "metadata": {
  "kernelspec": {
   "display_name": "Python 3",
   "language": "python",
   "name": "python3"
  },
  "language_info": {
   "codemirror_mode": {
    "name": "ipython",
    "version": 3
   },
   "file_extension": ".py",
   "mimetype": "text/x-python",
   "name": "python",
   "nbconvert_exporter": "python",
   "pygments_lexer": "ipython3",
   "version": "3.11.5"
  }
 },
 "nbformat": 4,
 "nbformat_minor": 2
}
